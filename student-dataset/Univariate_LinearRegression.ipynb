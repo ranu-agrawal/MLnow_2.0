{
  "nbformat": 4,
  "nbformat_minor": 0,
  "metadata": {
    "colab": {
      "name": "Univariate_LinearRegression.ipynb",
      "provenance": [],
      "collapsed_sections": [],
      "authorship_tag": "ABX9TyOd5+MJL3H0rtuvjt3gRllq",
      "include_colab_link": true
    },
    "kernelspec": {
      "name": "python3",
      "display_name": "Python 3"
    },
    "language_info": {
      "name": "python"
    }
  },
  "cells": [
    {
      "cell_type": "markdown",
      "metadata": {
        "id": "view-in-github",
        "colab_type": "text"
      },
      "source": [
        "<a href=\"https://colab.research.google.com/github/ranu-agrawal/MLnow_2.0/blob/main/student-dataset/Univariate_LinearRegression.ipynb\" target=\"_parent\"><img src=\"https://colab.research.google.com/assets/colab-badge.svg\" alt=\"Open In Colab\"/></a>"
      ]
    },
    {
      "cell_type": "markdown",
      "metadata": {
        "id": "8WUPSneCfmxM"
      },
      "source": [
        "> This notebook was created for code illustration of the `ML.now()` course\n",
        "\n",
        "\n",
        "`Univariate Linear Regression`\n",
        "\n",
        "[Link to Download the dataset](https://archive.ics.uci.edu/ml/datasets/Student+Performance)\n",
        "\n",
        "**Date Created**: Jun 11, 2021\n",
        "\n",
        "\n",
        "**Author**:\n",
        " Ranu Agrawal\n",
        "\n",
        " **Mentor**: Shivani Shimpi\n",
        "\n",
        "**Reach out**:\n",
        "[GitHub](https://github.com/ranu-agrawal) | [LinkedIn](https://www.linkedin.com/in/ranu-agrawal/) | [Email](mailto:ranuagrawal0983@gmail.com)\n",
        "\n",
        "\n",
        "\n",
        "Feel free to check out my [website](http://ranu-agrawal.netlify.app) for more information about me"
      ]
    },
    {
      "cell_type": "code",
      "metadata": {
        "colab": {
          "base_uri": "https://localhost:8080/"
        },
        "id": "asnfinO1imtQ",
        "outputId": "3d7e3567-53f8-45ea-9c43-624401bd41a2"
      },
      "source": [
        "from google.colab import drive\n",
        "drive.mount('/content/drive')"
      ],
      "execution_count": null,
      "outputs": [
        {
          "output_type": "stream",
          "text": [
            "Mounted at /content/drive\n"
          ],
          "name": "stdout"
        }
      ]
    },
    {
      "cell_type": "code",
      "metadata": {
        "colab": {
          "base_uri": "https://localhost:8080/"
        },
        "id": "vNuiru_yk3Zx",
        "outputId": "a69e65bc-0431-477a-b220-61b5ca2b4a62"
      },
      "source": [
        "cd '/content/drive/MyDrive/student'"
      ],
      "execution_count": null,
      "outputs": [
        {
          "output_type": "stream",
          "text": [
            "/content/drive/MyDrive/student\n"
          ],
          "name": "stdout"
        }
      ]
    },
    {
      "cell_type": "code",
      "metadata": {
        "colab": {
          "base_uri": "https://localhost:8080/"
        },
        "id": "rcB4dnL7lCqg",
        "outputId": "c9fc0eed-61ec-40d3-8c35-22e5e3c7d54f"
      },
      "source": [
        "ls"
      ],
      "execution_count": null,
      "outputs": [
        {
          "output_type": "stream",
          "text": [
            "02_ExploratoryDataAnalysis.ipynb  student-merge.R  student.txt\n",
            "student-mat.csv                   student-por.csv  Untitled0.ipynb\n"
          ],
          "name": "stdout"
        }
      ]
    },
    {
      "cell_type": "code",
      "metadata": {
        "id": "zLC8f2oslJVT"
      },
      "source": [
        "import os"
      ],
      "execution_count": null,
      "outputs": []
    },
    {
      "cell_type": "code",
      "metadata": {
        "id": "gdl9NqThlPLM"
      },
      "source": [
        "import pandas as pd #working with csv or excel files\n",
        "import numpy as np #working with numbers/ arrays/ tensors\n",
        "import tensorflow as tf #framework\n",
        "from tensorflow import keras #API / library \n",
        "import os #using os commands between the python language"
      ],
      "execution_count": null,
      "outputs": []
    },
    {
      "cell_type": "code",
      "metadata": {
        "id": "86Qk6wwflUc5"
      },
      "source": [
        "mathData = pd.read_csv('student-mat.csv', sep=';') #load the csv file as dataframe"
      ],
      "execution_count": null,
      "outputs": []
    },
    {
      "cell_type": "code",
      "metadata": {
        "colab": {
          "base_uri": "https://localhost:8080/",
          "height": 379
        },
        "id": "VC69WrwMlYXl",
        "outputId": "b139396e-346c-46f4-a06a-e8d3232e46be"
      },
      "source": [
        "mathData.head(10) #print the first ten rows of the dataframe"
      ],
      "execution_count": null,
      "outputs": [
        {
          "output_type": "execute_result",
          "data": {
            "text/html": [
              "<div>\n",
              "<style scoped>\n",
              "    .dataframe tbody tr th:only-of-type {\n",
              "        vertical-align: middle;\n",
              "    }\n",
              "\n",
              "    .dataframe tbody tr th {\n",
              "        vertical-align: top;\n",
              "    }\n",
              "\n",
              "    .dataframe thead th {\n",
              "        text-align: right;\n",
              "    }\n",
              "</style>\n",
              "<table border=\"1\" class=\"dataframe\">\n",
              "  <thead>\n",
              "    <tr style=\"text-align: right;\">\n",
              "      <th></th>\n",
              "      <th>school</th>\n",
              "      <th>sex</th>\n",
              "      <th>age</th>\n",
              "      <th>address</th>\n",
              "      <th>famsize</th>\n",
              "      <th>Pstatus</th>\n",
              "      <th>Medu</th>\n",
              "      <th>Fedu</th>\n",
              "      <th>Mjob</th>\n",
              "      <th>Fjob</th>\n",
              "      <th>reason</th>\n",
              "      <th>guardian</th>\n",
              "      <th>traveltime</th>\n",
              "      <th>studytime</th>\n",
              "      <th>failures</th>\n",
              "      <th>schoolsup</th>\n",
              "      <th>famsup</th>\n",
              "      <th>paid</th>\n",
              "      <th>activities</th>\n",
              "      <th>nursery</th>\n",
              "      <th>higher</th>\n",
              "      <th>internet</th>\n",
              "      <th>romantic</th>\n",
              "      <th>famrel</th>\n",
              "      <th>freetime</th>\n",
              "      <th>goout</th>\n",
              "      <th>Dalc</th>\n",
              "      <th>Walc</th>\n",
              "      <th>health</th>\n",
              "      <th>absences</th>\n",
              "      <th>G1</th>\n",
              "      <th>G2</th>\n",
              "      <th>G3</th>\n",
              "    </tr>\n",
              "  </thead>\n",
              "  <tbody>\n",
              "    <tr>\n",
              "      <th>0</th>\n",
              "      <td>GP</td>\n",
              "      <td>F</td>\n",
              "      <td>18</td>\n",
              "      <td>U</td>\n",
              "      <td>GT3</td>\n",
              "      <td>A</td>\n",
              "      <td>4</td>\n",
              "      <td>4</td>\n",
              "      <td>at_home</td>\n",
              "      <td>teacher</td>\n",
              "      <td>course</td>\n",
              "      <td>mother</td>\n",
              "      <td>2</td>\n",
              "      <td>2</td>\n",
              "      <td>0</td>\n",
              "      <td>yes</td>\n",
              "      <td>no</td>\n",
              "      <td>no</td>\n",
              "      <td>no</td>\n",
              "      <td>yes</td>\n",
              "      <td>yes</td>\n",
              "      <td>no</td>\n",
              "      <td>no</td>\n",
              "      <td>4</td>\n",
              "      <td>3</td>\n",
              "      <td>4</td>\n",
              "      <td>1</td>\n",
              "      <td>1</td>\n",
              "      <td>3</td>\n",
              "      <td>6</td>\n",
              "      <td>5</td>\n",
              "      <td>6</td>\n",
              "      <td>6</td>\n",
              "    </tr>\n",
              "    <tr>\n",
              "      <th>1</th>\n",
              "      <td>GP</td>\n",
              "      <td>F</td>\n",
              "      <td>17</td>\n",
              "      <td>U</td>\n",
              "      <td>GT3</td>\n",
              "      <td>T</td>\n",
              "      <td>1</td>\n",
              "      <td>1</td>\n",
              "      <td>at_home</td>\n",
              "      <td>other</td>\n",
              "      <td>course</td>\n",
              "      <td>father</td>\n",
              "      <td>1</td>\n",
              "      <td>2</td>\n",
              "      <td>0</td>\n",
              "      <td>no</td>\n",
              "      <td>yes</td>\n",
              "      <td>no</td>\n",
              "      <td>no</td>\n",
              "      <td>no</td>\n",
              "      <td>yes</td>\n",
              "      <td>yes</td>\n",
              "      <td>no</td>\n",
              "      <td>5</td>\n",
              "      <td>3</td>\n",
              "      <td>3</td>\n",
              "      <td>1</td>\n",
              "      <td>1</td>\n",
              "      <td>3</td>\n",
              "      <td>4</td>\n",
              "      <td>5</td>\n",
              "      <td>5</td>\n",
              "      <td>6</td>\n",
              "    </tr>\n",
              "    <tr>\n",
              "      <th>2</th>\n",
              "      <td>GP</td>\n",
              "      <td>F</td>\n",
              "      <td>15</td>\n",
              "      <td>U</td>\n",
              "      <td>LE3</td>\n",
              "      <td>T</td>\n",
              "      <td>1</td>\n",
              "      <td>1</td>\n",
              "      <td>at_home</td>\n",
              "      <td>other</td>\n",
              "      <td>other</td>\n",
              "      <td>mother</td>\n",
              "      <td>1</td>\n",
              "      <td>2</td>\n",
              "      <td>3</td>\n",
              "      <td>yes</td>\n",
              "      <td>no</td>\n",
              "      <td>yes</td>\n",
              "      <td>no</td>\n",
              "      <td>yes</td>\n",
              "      <td>yes</td>\n",
              "      <td>yes</td>\n",
              "      <td>no</td>\n",
              "      <td>4</td>\n",
              "      <td>3</td>\n",
              "      <td>2</td>\n",
              "      <td>2</td>\n",
              "      <td>3</td>\n",
              "      <td>3</td>\n",
              "      <td>10</td>\n",
              "      <td>7</td>\n",
              "      <td>8</td>\n",
              "      <td>10</td>\n",
              "    </tr>\n",
              "    <tr>\n",
              "      <th>3</th>\n",
              "      <td>GP</td>\n",
              "      <td>F</td>\n",
              "      <td>15</td>\n",
              "      <td>U</td>\n",
              "      <td>GT3</td>\n",
              "      <td>T</td>\n",
              "      <td>4</td>\n",
              "      <td>2</td>\n",
              "      <td>health</td>\n",
              "      <td>services</td>\n",
              "      <td>home</td>\n",
              "      <td>mother</td>\n",
              "      <td>1</td>\n",
              "      <td>3</td>\n",
              "      <td>0</td>\n",
              "      <td>no</td>\n",
              "      <td>yes</td>\n",
              "      <td>yes</td>\n",
              "      <td>yes</td>\n",
              "      <td>yes</td>\n",
              "      <td>yes</td>\n",
              "      <td>yes</td>\n",
              "      <td>yes</td>\n",
              "      <td>3</td>\n",
              "      <td>2</td>\n",
              "      <td>2</td>\n",
              "      <td>1</td>\n",
              "      <td>1</td>\n",
              "      <td>5</td>\n",
              "      <td>2</td>\n",
              "      <td>15</td>\n",
              "      <td>14</td>\n",
              "      <td>15</td>\n",
              "    </tr>\n",
              "    <tr>\n",
              "      <th>4</th>\n",
              "      <td>GP</td>\n",
              "      <td>F</td>\n",
              "      <td>16</td>\n",
              "      <td>U</td>\n",
              "      <td>GT3</td>\n",
              "      <td>T</td>\n",
              "      <td>3</td>\n",
              "      <td>3</td>\n",
              "      <td>other</td>\n",
              "      <td>other</td>\n",
              "      <td>home</td>\n",
              "      <td>father</td>\n",
              "      <td>1</td>\n",
              "      <td>2</td>\n",
              "      <td>0</td>\n",
              "      <td>no</td>\n",
              "      <td>yes</td>\n",
              "      <td>yes</td>\n",
              "      <td>no</td>\n",
              "      <td>yes</td>\n",
              "      <td>yes</td>\n",
              "      <td>no</td>\n",
              "      <td>no</td>\n",
              "      <td>4</td>\n",
              "      <td>3</td>\n",
              "      <td>2</td>\n",
              "      <td>1</td>\n",
              "      <td>2</td>\n",
              "      <td>5</td>\n",
              "      <td>4</td>\n",
              "      <td>6</td>\n",
              "      <td>10</td>\n",
              "      <td>10</td>\n",
              "    </tr>\n",
              "    <tr>\n",
              "      <th>5</th>\n",
              "      <td>GP</td>\n",
              "      <td>M</td>\n",
              "      <td>16</td>\n",
              "      <td>U</td>\n",
              "      <td>LE3</td>\n",
              "      <td>T</td>\n",
              "      <td>4</td>\n",
              "      <td>3</td>\n",
              "      <td>services</td>\n",
              "      <td>other</td>\n",
              "      <td>reputation</td>\n",
              "      <td>mother</td>\n",
              "      <td>1</td>\n",
              "      <td>2</td>\n",
              "      <td>0</td>\n",
              "      <td>no</td>\n",
              "      <td>yes</td>\n",
              "      <td>yes</td>\n",
              "      <td>yes</td>\n",
              "      <td>yes</td>\n",
              "      <td>yes</td>\n",
              "      <td>yes</td>\n",
              "      <td>no</td>\n",
              "      <td>5</td>\n",
              "      <td>4</td>\n",
              "      <td>2</td>\n",
              "      <td>1</td>\n",
              "      <td>2</td>\n",
              "      <td>5</td>\n",
              "      <td>10</td>\n",
              "      <td>15</td>\n",
              "      <td>15</td>\n",
              "      <td>15</td>\n",
              "    </tr>\n",
              "    <tr>\n",
              "      <th>6</th>\n",
              "      <td>GP</td>\n",
              "      <td>M</td>\n",
              "      <td>16</td>\n",
              "      <td>U</td>\n",
              "      <td>LE3</td>\n",
              "      <td>T</td>\n",
              "      <td>2</td>\n",
              "      <td>2</td>\n",
              "      <td>other</td>\n",
              "      <td>other</td>\n",
              "      <td>home</td>\n",
              "      <td>mother</td>\n",
              "      <td>1</td>\n",
              "      <td>2</td>\n",
              "      <td>0</td>\n",
              "      <td>no</td>\n",
              "      <td>no</td>\n",
              "      <td>no</td>\n",
              "      <td>no</td>\n",
              "      <td>yes</td>\n",
              "      <td>yes</td>\n",
              "      <td>yes</td>\n",
              "      <td>no</td>\n",
              "      <td>4</td>\n",
              "      <td>4</td>\n",
              "      <td>4</td>\n",
              "      <td>1</td>\n",
              "      <td>1</td>\n",
              "      <td>3</td>\n",
              "      <td>0</td>\n",
              "      <td>12</td>\n",
              "      <td>12</td>\n",
              "      <td>11</td>\n",
              "    </tr>\n",
              "    <tr>\n",
              "      <th>7</th>\n",
              "      <td>GP</td>\n",
              "      <td>F</td>\n",
              "      <td>17</td>\n",
              "      <td>U</td>\n",
              "      <td>GT3</td>\n",
              "      <td>A</td>\n",
              "      <td>4</td>\n",
              "      <td>4</td>\n",
              "      <td>other</td>\n",
              "      <td>teacher</td>\n",
              "      <td>home</td>\n",
              "      <td>mother</td>\n",
              "      <td>2</td>\n",
              "      <td>2</td>\n",
              "      <td>0</td>\n",
              "      <td>yes</td>\n",
              "      <td>yes</td>\n",
              "      <td>no</td>\n",
              "      <td>no</td>\n",
              "      <td>yes</td>\n",
              "      <td>yes</td>\n",
              "      <td>no</td>\n",
              "      <td>no</td>\n",
              "      <td>4</td>\n",
              "      <td>1</td>\n",
              "      <td>4</td>\n",
              "      <td>1</td>\n",
              "      <td>1</td>\n",
              "      <td>1</td>\n",
              "      <td>6</td>\n",
              "      <td>6</td>\n",
              "      <td>5</td>\n",
              "      <td>6</td>\n",
              "    </tr>\n",
              "    <tr>\n",
              "      <th>8</th>\n",
              "      <td>GP</td>\n",
              "      <td>M</td>\n",
              "      <td>15</td>\n",
              "      <td>U</td>\n",
              "      <td>LE3</td>\n",
              "      <td>A</td>\n",
              "      <td>3</td>\n",
              "      <td>2</td>\n",
              "      <td>services</td>\n",
              "      <td>other</td>\n",
              "      <td>home</td>\n",
              "      <td>mother</td>\n",
              "      <td>1</td>\n",
              "      <td>2</td>\n",
              "      <td>0</td>\n",
              "      <td>no</td>\n",
              "      <td>yes</td>\n",
              "      <td>yes</td>\n",
              "      <td>no</td>\n",
              "      <td>yes</td>\n",
              "      <td>yes</td>\n",
              "      <td>yes</td>\n",
              "      <td>no</td>\n",
              "      <td>4</td>\n",
              "      <td>2</td>\n",
              "      <td>2</td>\n",
              "      <td>1</td>\n",
              "      <td>1</td>\n",
              "      <td>1</td>\n",
              "      <td>0</td>\n",
              "      <td>16</td>\n",
              "      <td>18</td>\n",
              "      <td>19</td>\n",
              "    </tr>\n",
              "    <tr>\n",
              "      <th>9</th>\n",
              "      <td>GP</td>\n",
              "      <td>M</td>\n",
              "      <td>15</td>\n",
              "      <td>U</td>\n",
              "      <td>GT3</td>\n",
              "      <td>T</td>\n",
              "      <td>3</td>\n",
              "      <td>4</td>\n",
              "      <td>other</td>\n",
              "      <td>other</td>\n",
              "      <td>home</td>\n",
              "      <td>mother</td>\n",
              "      <td>1</td>\n",
              "      <td>2</td>\n",
              "      <td>0</td>\n",
              "      <td>no</td>\n",
              "      <td>yes</td>\n",
              "      <td>yes</td>\n",
              "      <td>yes</td>\n",
              "      <td>yes</td>\n",
              "      <td>yes</td>\n",
              "      <td>yes</td>\n",
              "      <td>no</td>\n",
              "      <td>5</td>\n",
              "      <td>5</td>\n",
              "      <td>1</td>\n",
              "      <td>1</td>\n",
              "      <td>1</td>\n",
              "      <td>5</td>\n",
              "      <td>0</td>\n",
              "      <td>14</td>\n",
              "      <td>15</td>\n",
              "      <td>15</td>\n",
              "    </tr>\n",
              "  </tbody>\n",
              "</table>\n",
              "</div>"
            ],
            "text/plain": [
              "  school sex  age address famsize Pstatus  ...  Walc  health absences  G1  G2  G3\n",
              "0     GP   F   18       U     GT3       A  ...     1       3        6   5   6   6\n",
              "1     GP   F   17       U     GT3       T  ...     1       3        4   5   5   6\n",
              "2     GP   F   15       U     LE3       T  ...     3       3       10   7   8  10\n",
              "3     GP   F   15       U     GT3       T  ...     1       5        2  15  14  15\n",
              "4     GP   F   16       U     GT3       T  ...     2       5        4   6  10  10\n",
              "5     GP   M   16       U     LE3       T  ...     2       5       10  15  15  15\n",
              "6     GP   M   16       U     LE3       T  ...     1       3        0  12  12  11\n",
              "7     GP   F   17       U     GT3       A  ...     1       1        6   6   5   6\n",
              "8     GP   M   15       U     LE3       A  ...     1       1        0  16  18  19\n",
              "9     GP   M   15       U     GT3       T  ...     1       5        0  14  15  15\n",
              "\n",
              "[10 rows x 33 columns]"
            ]
          },
          "metadata": {
            "tags": []
          },
          "execution_count": 8
        }
      ]
    },
    {
      "cell_type": "code",
      "metadata": {
        "colab": {
          "base_uri": "https://localhost:8080/",
          "height": 204
        },
        "id": "YDprLZK1lcQB",
        "outputId": "a833fc40-0356-4d51-a8cc-4d5682034acd"
      },
      "source": [
        "uniMathData = mathData[['G1', 'G3']]\n",
        "uniMathData.head(5)"
      ],
      "execution_count": null,
      "outputs": [
        {
          "output_type": "execute_result",
          "data": {
            "text/html": [
              "<div>\n",
              "<style scoped>\n",
              "    .dataframe tbody tr th:only-of-type {\n",
              "        vertical-align: middle;\n",
              "    }\n",
              "\n",
              "    .dataframe tbody tr th {\n",
              "        vertical-align: top;\n",
              "    }\n",
              "\n",
              "    .dataframe thead th {\n",
              "        text-align: right;\n",
              "    }\n",
              "</style>\n",
              "<table border=\"1\" class=\"dataframe\">\n",
              "  <thead>\n",
              "    <tr style=\"text-align: right;\">\n",
              "      <th></th>\n",
              "      <th>G1</th>\n",
              "      <th>G3</th>\n",
              "    </tr>\n",
              "  </thead>\n",
              "  <tbody>\n",
              "    <tr>\n",
              "      <th>0</th>\n",
              "      <td>5</td>\n",
              "      <td>6</td>\n",
              "    </tr>\n",
              "    <tr>\n",
              "      <th>1</th>\n",
              "      <td>5</td>\n",
              "      <td>6</td>\n",
              "    </tr>\n",
              "    <tr>\n",
              "      <th>2</th>\n",
              "      <td>7</td>\n",
              "      <td>10</td>\n",
              "    </tr>\n",
              "    <tr>\n",
              "      <th>3</th>\n",
              "      <td>15</td>\n",
              "      <td>15</td>\n",
              "    </tr>\n",
              "    <tr>\n",
              "      <th>4</th>\n",
              "      <td>6</td>\n",
              "      <td>10</td>\n",
              "    </tr>\n",
              "  </tbody>\n",
              "</table>\n",
              "</div>"
            ],
            "text/plain": [
              "   G1  G3\n",
              "0   5   6\n",
              "1   5   6\n",
              "2   7  10\n",
              "3  15  15\n",
              "4   6  10"
            ]
          },
          "metadata": {
            "tags": []
          },
          "execution_count": 9
        }
      ]
    },
    {
      "cell_type": "code",
      "metadata": {
        "id": "ZenprawAlh6j"
      },
      "source": [
        "uniMathData.to_csv('univariate_MathData_2.csv')"
      ],
      "execution_count": null,
      "outputs": []
    },
    {
      "cell_type": "code",
      "metadata": {
        "colab": {
          "base_uri": "https://localhost:8080/"
        },
        "id": "Z-Bbzsxvlk-G",
        "outputId": "5237a23a-68c4-4e16-b01f-5646f202bea0"
      },
      "source": [
        "ls"
      ],
      "execution_count": null,
      "outputs": [
        {
          "output_type": "stream",
          "text": [
            "02_ExploratoryDataAnalysis.ipynb  student-por.csv            Untitled0.ipynb\n",
            "student-mat.csv                   student.txt\n",
            "student-merge.R                   univariate_MathData_2.csv\n"
          ],
          "name": "stdout"
        }
      ]
    },
    {
      "cell_type": "code",
      "metadata": {
        "colab": {
          "base_uri": "https://localhost:8080/",
          "height": 157
        },
        "id": "AGgExgsSlvwF",
        "outputId": "21518373-c3b3-4dc1-a1ae-e32ae204cfd8"
      },
      "source": [
        "import seaborn as sns\n",
        "sns.palplot(sns.color_palette('PuOr')) #Purple to Orange colors\n",
        "pal = sns.color_palette('PuOr', 6) #print 6 color shades from Purple to Orange\n",
        "pal.as_hex() #set hex code values for colors\n",
        "\n",
        "import matplotlib.pyplot as plt\n",
        "plt.style.use(['seaborn'])\n",
        "sns_colors = ['#c6690c', '#664697'] #orange Purple hex codes\n",
        "sns.set_palette(sns_colors) #set the palette as sns_colors \n",
        "sns.palplot(sns.color_palette(sns_colors)) #plot the color codes"
      ],
      "execution_count": null,
      "outputs": [
        {
          "output_type": "display_data",
          "data": {
            "image/png": "[encoded data removed]",
            "text/plain": [
              "<Figure size 432x72 with 1 Axes>"
            ]
          },
          "metadata": {
            "tags": [],
            "needs_background": "light"
          }
        },
        {
          "output_type": "display_data",
          "data": {
            "image/png": "[encoded data removed]",
            "text/plain": [
              "<Figure size 144x72 with 1 Axes>"
            ]
          },
          "metadata": {
            "tags": []
          }
        }
      ]
    },
    {
      "cell_type": "code",
      "metadata": {
        "colab": {
          "base_uri": "https://localhost:8080/"
        },
        "id": "kkrRmT_elzif",
        "outputId": "e2d2d0ad-3279-4b30-f60d-e791e254a8a4"
      },
      "source": [
        "uniMathData.columns #columns in the dataframe"
      ],
      "execution_count": null,
      "outputs": [
        {
          "output_type": "execute_result",
          "data": {
            "text/plain": [
              "Index(['G1', 'G3'], dtype='object')"
            ]
          },
          "metadata": {
            "tags": []
          },
          "execution_count": 13
        }
      ]
    },
    {
      "cell_type": "code",
      "metadata": {
        "colab": {
          "base_uri": "https://localhost:8080/",
          "height": 391
        },
        "id": "8dQ1NJjKl2eg",
        "outputId": "5cee836b-f552-4200-cafe-47075404b89a"
      },
      "source": [
        "#pairplot for all the values\n",
        "\n",
        "sns.pairplot(uniMathData,\n",
        "             x_vars = ['G1', 'G3'],\n",
        "             y_vars =  ['G1', 'G3'],\n",
        "       diag_kind='kde'\n",
        "             )"
      ],
      "execution_count": null,
      "outputs": [
        {
          "output_type": "execute_result",
          "data": {
            "text/plain": [
              "<seaborn.axisgrid.PairGrid at 0x7f11562b6ad0>"
            ]
          },
          "metadata": {
            "tags": []
          },
          "execution_count": 14
        },
        {
          "output_type": "display_data",
          "data": {
            "image/png": "[encoded data removed]",
            "text/plain": [
              "<Figure size 360x360 with 6 Axes>"
            ]
          },
          "metadata": {
            "tags": []
          }
        }
      ]
    },
    {
      "cell_type": "code",
      "metadata": {
        "colab": {
          "base_uri": "https://localhost:8080/"
        },
        "id": "NB2aegrzl8di",
        "outputId": "f04d8730-1ac8-4af4-e45c-471c5e2356b2"
      },
      "source": [
        "#80-20 train-test percent split\n",
        "\n",
        "trainDataset = uniMathData.sample(frac=0.8, random_state=0) \n",
        "testDataset = uniMathData.drop(trainDataset.index)\n",
        "\n",
        "print(trainDataset.head())\n",
        "print(testDataset.head())"
      ],
      "execution_count": null,
      "outputs": [
        {
          "output_type": "stream",
          "text": [
            "     G1  G3\n",
            "329  14  14\n",
            "318  11  10\n",
            "317   9   9\n",
            "65   16  15\n",
            "59   15  16\n",
            "    G1  G3\n",
            "9   14  15\n",
            "25   6   8\n",
            "28  11  11\n",
            "31  17  17\n",
            "32  17  16\n"
          ],
          "name": "stdout"
        }
      ]
    },
    {
      "cell_type": "code",
      "metadata": {
        "colab": {
          "base_uri": "https://localhost:8080/"
        },
        "id": "7Pg_ohnpmB17",
        "outputId": "4b804970-68a3-4cc9-e133-3c6b5e95b53c"
      },
      "source": [
        "print(trainDataset.shape)\n",
        "print(testDataset.shape)"
      ],
      "execution_count": null,
      "outputs": [
        {
          "output_type": "stream",
          "text": [
            "(316, 2)\n",
            "(79, 2)\n"
          ],
          "name": "stdout"
        }
      ]
    },
    {
      "cell_type": "code",
      "metadata": {
        "colab": {
          "base_uri": "https://localhost:8080/"
        },
        "id": "ZMRUOueZmVad",
        "outputId": "26aa9c04-fc0d-40d0-e9b2-9f2c721d41e7"
      },
      "source": [
        "#copy the trainDataset dataframe for getting the features\n",
        "\n",
        "trainFeatures = trainDataset.copy()\n",
        "testFeatures = testDataset.copy()\n",
        "\n",
        "print(trainFeatures.head())\n",
        "print(testFeatures.head())"
      ],
      "execution_count": null,
      "outputs": [
        {
          "output_type": "stream",
          "text": [
            "     G1  G3\n",
            "329  14  14\n",
            "318  11  10\n",
            "317   9   9\n",
            "65   16  15\n",
            "59   15  16\n",
            "    G1  G3\n",
            "9   14  15\n",
            "25   6   8\n",
            "28  11  11\n",
            "31  17  17\n",
            "32  17  16\n"
          ],
          "name": "stdout"
        }
      ]
    },
    {
      "cell_type": "code",
      "metadata": {
        "colab": {
          "base_uri": "https://localhost:8080/"
        },
        "id": "qr3xFFBYmcOj",
        "outputId": "46edbc73-92f3-41ca-b7cd-5ae64140c59e"
      },
      "source": [
        "#removing the G3 column and saving it into the labels variable\n",
        "\n",
        "trainLabels = trainFeatures.pop('G3')\n",
        "testLabels = testFeatures.pop('G3')\n",
        "\n",
        "print(trainLabels.head())\n",
        "print(testLabels.head())"
      ],
      "execution_count": null,
      "outputs": [
        {
          "output_type": "stream",
          "text": [
            "329    14\n",
            "318    10\n",
            "317     9\n",
            "65     15\n",
            "59     16\n",
            "Name: G3, dtype: int64\n",
            "9     15\n",
            "25     8\n",
            "28    11\n",
            "31    17\n",
            "32    16\n",
            "Name: G3, dtype: int64\n"
          ],
          "name": "stdout"
        }
      ]
    },
    {
      "cell_type": "code",
      "metadata": {
        "colab": {
          "base_uri": "https://localhost:8080/"
        },
        "id": "eG2AwWlCmgcS",
        "outputId": "7ac41d71-7cc9-4cf5-b4a3-6be34c82f626"
      },
      "source": [
        "print(trainFeatures.head())\n",
        "print(testFeatures.head())"
      ],
      "execution_count": null,
      "outputs": [
        {
          "output_type": "stream",
          "text": [
            "     G1\n",
            "329  14\n",
            "318  11\n",
            "317   9\n",
            "65   16\n",
            "59   15\n",
            "    G1\n",
            "9   14\n",
            "25   6\n",
            "28  11\n",
            "31  17\n",
            "32  17\n"
          ],
          "name": "stdout"
        }
      ]
    },
    {
      "cell_type": "code",
      "metadata": {
        "id": "zEZCQBemmHoX"
      },
      "source": [
        "# univariate -> num(features) = 1\n",
        "# multvariate -> num(features) > 1 = 11\n",
        "\n",
        "\n",
        "model = tf.keras.Sequential([\n",
        "                             tf.keras.layers.Dense(1)\n",
        "\n",
        "])"
      ],
      "execution_count": null,
      "outputs": []
    },
    {
      "cell_type": "code",
      "metadata": {
        "id": "IiiO04YTmmh5"
      },
      "source": [
        "model.compile(\n",
        "    loss = 'mean_absolute_error', #minimizing the MAE loss\n",
        "    optimizer = tf.keras.optimizers.Adam(0.001), #learning rate specified as 0.001\n",
        "    # optimizer = 'adam', #takes the default learning rate\n",
        "    metrics = ['mae', 'mse'] #meanSquare and meanAbsolute error metrics\n",
        ")"
      ],
      "execution_count": null,
      "outputs": []
    },
    {
      "cell_type": "code",
      "metadata": {
        "colab": {
          "base_uri": "https://localhost:8080/"
        },
        "id": "xD3hPRZHmqQx",
        "outputId": "1189e798-19cb-4387-d72b-45f9625025b8"
      },
      "source": [
        "numEpochs = 300\n",
        "history = model.fit(x = trainFeatures, y = trainLabels, validation_data = (testFeatures, testLabels), epochs = numEpochs)"
      ],
      "execution_count": null,
      "outputs": [
        {
          "output_type": "stream",
          "text": [
            "Epoch 1/300\n",
            "10/10 [==============================] - 1s 20ms/step - loss: 28.4516 - mae: 28.4516 - mse: 900.4429 - val_loss: 30.1181 - val_mae: 30.1181 - val_mse: 1006.3026\n",
            "Epoch 2/300\n",
            "10/10 [==============================] - 0s 4ms/step - loss: 28.3339 - mae: 28.3339 - mse: 893.1356 - val_loss: 29.9936 - val_mae: 29.9936 - val_mse: 998.1595\n",
            "Epoch 3/300\n",
            "10/10 [==============================] - 0s 3ms/step - loss: 28.2167 - mae: 28.2167 - mse: 885.9504 - val_loss: 29.8689 - val_mae: 29.8689 - val_mse: 990.0327\n",
            "Epoch 4/300\n",
            "10/10 [==============================] - 0s 4ms/step - loss: 28.0993 - mae: 28.0993 - mse: 878.7492 - val_loss: 29.7442 - val_mae: 29.7442 - val_mse: 981.9471\n",
            "Epoch 5/300\n",
            "10/10 [==============================] - 0s 5ms/step - loss: 27.9819 - mae: 27.9819 - mse: 871.6134 - val_loss: 29.6197 - val_mae: 29.6197 - val_mse: 973.9021\n",
            "Epoch 6/300\n",
            "10/10 [==============================] - 0s 4ms/step - loss: 27.8645 - mae: 27.8645 - mse: 864.4952 - val_loss: 29.4953 - val_mae: 29.4953 - val_mse: 965.8976\n",
            "Epoch 7/300\n",
            "10/10 [==============================] - 0s 4ms/step - loss: 27.7459 - mae: 27.7459 - mse: 857.2070 - val_loss: 29.3717 - val_mae: 29.3717 - val_mse: 957.9778\n",
            "Epoch 8/300\n",
            "10/10 [==============================] - 0s 4ms/step - loss: 27.6290 - mae: 27.6290 - mse: 850.1527 - val_loss: 29.2474 - val_mae: 29.2474 - val_mse: 950.0428\n",
            "Epoch 9/300\n",
            "10/10 [==============================] - 0s 4ms/step - loss: 27.5117 - mae: 27.5117 - mse: 843.0941 - val_loss: 29.1226 - val_mae: 29.1226 - val_mse: 942.1158\n",
            "Epoch 10/300\n",
            "10/10 [==============================] - 0s 4ms/step - loss: 27.3940 - mae: 27.3940 - mse: 836.0565 - val_loss: 28.9980 - val_mae: 28.9980 - val_mse: 934.2292\n",
            "Epoch 11/300\n",
            "10/10 [==============================] - 0s 4ms/step - loss: 27.2768 - mae: 27.2768 - mse: 829.1114 - val_loss: 28.8730 - val_mae: 28.8730 - val_mse: 926.3583\n",
            "Epoch 12/300\n",
            "10/10 [==============================] - 0s 4ms/step - loss: 27.1593 - mae: 27.1593 - mse: 822.2025 - val_loss: 28.7483 - val_mae: 28.7483 - val_mse: 918.5287\n",
            "Epoch 13/300\n",
            "10/10 [==============================] - 0s 6ms/step - loss: 27.0410 - mae: 27.0410 - mse: 815.1379 - val_loss: 28.6242 - val_mae: 28.6242 - val_mse: 910.7806\n",
            "Epoch 14/300\n",
            "10/10 [==============================] - 0s 4ms/step - loss: 26.9242 - mae: 26.9242 - mse: 808.3256 - val_loss: 28.4994 - val_mae: 28.4994 - val_mse: 903.0158\n",
            "Epoch 15/300\n",
            "10/10 [==============================] - 0s 5ms/step - loss: 26.8063 - mae: 26.8063 - mse: 801.4017 - val_loss: 28.3750 - val_mae: 28.3750 - val_mse: 895.3107\n",
            "Epoch 16/300\n",
            "10/10 [==============================] - 0s 5ms/step - loss: 26.6890 - mae: 26.6890 - mse: 794.5600 - val_loss: 28.2503 - val_mae: 28.2503 - val_mse: 887.6202\n",
            "Epoch 17/300\n",
            "10/10 [==============================] - 0s 4ms/step - loss: 26.5707 - mae: 26.5707 - mse: 787.6541 - val_loss: 28.1264 - val_mae: 28.1264 - val_mse: 880.0157\n",
            "Epoch 18/300\n",
            "10/10 [==============================] - 0s 4ms/step - loss: 26.4543 - mae: 26.4543 - mse: 781.0040 - val_loss: 28.0014 - val_mae: 28.0014 - val_mse: 872.3716\n",
            "Epoch 19/300\n",
            "10/10 [==============================] - 0s 6ms/step - loss: 26.3357 - mae: 26.3357 - mse: 774.1181 - val_loss: 27.8773 - val_mae: 27.8773 - val_mse: 864.8206\n",
            "Epoch 20/300\n",
            "10/10 [==============================] - 0s 4ms/step - loss: 26.2184 - mae: 26.2184 - mse: 767.3936 - val_loss: 27.7530 - val_mae: 27.7530 - val_mse: 857.2859\n",
            "Epoch 21/300\n",
            "10/10 [==============================] - 0s 4ms/step - loss: 26.1016 - mae: 26.1016 - mse: 760.7986 - val_loss: 27.6277 - val_mae: 27.6277 - val_mse: 849.7289\n",
            "Epoch 22/300\n",
            "10/10 [==============================] - 0s 4ms/step - loss: 25.9834 - mae: 25.9834 - mse: 754.0441 - val_loss: 27.5033 - val_mae: 27.5033 - val_mse: 842.2538\n",
            "Epoch 23/300\n",
            "10/10 [==============================] - 0s 4ms/step - loss: 25.8655 - mae: 25.8655 - mse: 747.3541 - val_loss: 27.3791 - val_mae: 27.3791 - val_mse: 834.8322\n",
            "Epoch 24/300\n",
            "10/10 [==============================] - 0s 4ms/step - loss: 25.7487 - mae: 25.7487 - mse: 740.8419 - val_loss: 27.2543 - val_mae: 27.2543 - val_mse: 827.3995\n",
            "Epoch 25/300\n",
            "10/10 [==============================] - 0s 4ms/step - loss: 25.6308 - mae: 25.6308 - mse: 734.2069 - val_loss: 27.1297 - val_mae: 27.1297 - val_mse: 820.0212\n",
            "Epoch 26/300\n",
            "10/10 [==============================] - 0s 4ms/step - loss: 25.5137 - mae: 25.5137 - mse: 727.7075 - val_loss: 27.0050 - val_mae: 27.0050 - val_mse: 812.6609\n",
            "Epoch 27/300\n",
            "10/10 [==============================] - 0s 3ms/step - loss: 25.3953 - mae: 25.3953 - mse: 721.0751 - val_loss: 26.8811 - val_mae: 26.8811 - val_mse: 805.3870\n",
            "Epoch 28/300\n",
            "10/10 [==============================] - 0s 3ms/step - loss: 25.2785 - mae: 25.2785 - mse: 714.6555 - val_loss: 26.7565 - val_mae: 26.7565 - val_mse: 798.1016\n",
            "Epoch 29/300\n",
            "10/10 [==============================] - 0s 4ms/step - loss: 25.1611 - mae: 25.1611 - mse: 708.1946 - val_loss: 26.6318 - val_mae: 26.6318 - val_mse: 790.8466\n",
            "Epoch 30/300\n",
            "10/10 [==============================] - 0s 4ms/step - loss: 25.0429 - mae: 25.0429 - mse: 701.6917 - val_loss: 26.5078 - val_mae: 26.5078 - val_mse: 783.6655\n",
            "Epoch 31/300\n",
            "10/10 [==============================] - 0s 4ms/step - loss: 24.9259 - mae: 24.9259 - mse: 695.3252 - val_loss: 26.3832 - val_mae: 26.3832 - val_mse: 776.4835\n",
            "Epoch 32/300\n",
            "10/10 [==============================] - 0s 5ms/step - loss: 24.8080 - mae: 24.8080 - mse: 688.9111 - val_loss: 26.2589 - val_mae: 26.2589 - val_mse: 769.3499\n",
            "Epoch 33/300\n",
            "10/10 [==============================] - 0s 5ms/step - loss: 24.6905 - mae: 24.6905 - mse: 682.5416 - val_loss: 26.1344 - val_mae: 26.1344 - val_mse: 762.2366\n",
            "Epoch 34/300\n",
            "10/10 [==============================] - 0s 4ms/step - loss: 24.5732 - mae: 24.5732 - mse: 676.2681 - val_loss: 26.0095 - val_mae: 26.0095 - val_mse: 755.1410\n",
            "Epoch 35/300\n",
            "10/10 [==============================] - 0s 5ms/step - loss: 24.4557 - mae: 24.4557 - mse: 670.0217 - val_loss: 25.8847 - val_mae: 25.8847 - val_mse: 748.0785\n",
            "Epoch 36/300\n",
            "10/10 [==============================] - 0s 4ms/step - loss: 24.3377 - mae: 24.3377 - mse: 663.7048 - val_loss: 25.7604 - val_mae: 25.7604 - val_mse: 741.0762\n",
            "Epoch 37/300\n",
            "10/10 [==============================] - 0s 5ms/step - loss: 24.2207 - mae: 24.2207 - mse: 657.5497 - val_loss: 25.6355 - val_mae: 25.6355 - val_mse: 734.0760\n",
            "Epoch 38/300\n",
            "10/10 [==============================] - 0s 4ms/step - loss: 24.1031 - mae: 24.1031 - mse: 651.3509 - val_loss: 25.5107 - val_mae: 25.5107 - val_mse: 727.1158\n",
            "Epoch 39/300\n",
            "10/10 [==============================] - 0s 5ms/step - loss: 23.9849 - mae: 23.9849 - mse: 645.0827 - val_loss: 25.3866 - val_mae: 25.3866 - val_mse: 720.2298\n",
            "Epoch 40/300\n",
            "10/10 [==============================] - 0s 4ms/step - loss: 23.8679 - mae: 23.8679 - mse: 639.0397 - val_loss: 25.2621 - val_mae: 25.2621 - val_mse: 713.3521\n",
            "Epoch 41/300\n",
            "10/10 [==============================] - 0s 4ms/step - loss: 23.7503 - mae: 23.7503 - mse: 632.8917 - val_loss: 25.1375 - val_mae: 25.1375 - val_mse: 706.5042\n",
            "Epoch 42/300\n",
            "10/10 [==============================] - 0s 3ms/step - loss: 23.6325 - mae: 23.6325 - mse: 626.8018 - val_loss: 25.0132 - val_mae: 25.0132 - val_mse: 699.7014\n",
            "Epoch 43/300\n",
            "10/10 [==============================] - 0s 4ms/step - loss: 23.5158 - mae: 23.5158 - mse: 620.8435 - val_loss: 24.8880 - val_mae: 24.8880 - val_mse: 692.8843\n",
            "Epoch 44/300\n",
            "10/10 [==============================] - 0s 4ms/step - loss: 23.3976 - mae: 23.3976 - mse: 614.7686 - val_loss: 24.7635 - val_mae: 24.7635 - val_mse: 686.1452\n",
            "Epoch 45/300\n",
            "10/10 [==============================] - 0s 6ms/step - loss: 23.2798 - mae: 23.2798 - mse: 608.7512 - val_loss: 24.6393 - val_mae: 24.6393 - val_mse: 679.4501\n",
            "Epoch 46/300\n",
            "10/10 [==============================] - 0s 5ms/step - loss: 23.1627 - mae: 23.1627 - mse: 602.8361 - val_loss: 24.5147 - val_mae: 24.5147 - val_mse: 672.7685\n",
            "Epoch 47/300\n",
            "10/10 [==============================] - 0s 5ms/step - loss: 23.0447 - mae: 23.0447 - mse: 596.8549 - val_loss: 24.3905 - val_mae: 24.3905 - val_mse: 666.1403\n",
            "Epoch 48/300\n",
            "10/10 [==============================] - 0s 4ms/step - loss: 22.9277 - mae: 22.9277 - mse: 590.9968 - val_loss: 24.2658 - val_mae: 24.2658 - val_mse: 659.5162\n",
            "Epoch 49/300\n",
            "10/10 [==============================] - 0s 4ms/step - loss: 22.8097 - mae: 22.8097 - mse: 585.0817 - val_loss: 24.1414 - val_mae: 24.1414 - val_mse: 652.9472\n",
            "Epoch 50/300\n",
            "10/10 [==============================] - 0s 4ms/step - loss: 22.6923 - mae: 22.6923 - mse: 579.2525 - val_loss: 24.0170 - val_mae: 24.0170 - val_mse: 646.4037\n",
            "Epoch 51/300\n",
            "10/10 [==============================] - 0s 4ms/step - loss: 22.5746 - mae: 22.5746 - mse: 573.4439 - val_loss: 23.8926 - val_mae: 23.8926 - val_mse: 639.8996\n",
            "Epoch 52/300\n",
            "10/10 [==============================] - 0s 4ms/step - loss: 22.4574 - mae: 22.4574 - mse: 567.6829 - val_loss: 23.7677 - val_mae: 23.7677 - val_mse: 633.4017\n",
            "Epoch 53/300\n",
            "10/10 [==============================] - 0s 4ms/step - loss: 22.3398 - mae: 22.3398 - mse: 561.9431 - val_loss: 23.6430 - val_mae: 23.6430 - val_mse: 626.9474\n",
            "Epoch 54/300\n",
            "10/10 [==============================] - 0s 4ms/step - loss: 22.2225 - mae: 22.2225 - mse: 556.2623 - val_loss: 23.5181 - val_mae: 23.5181 - val_mse: 620.5154\n",
            "Epoch 55/300\n",
            "10/10 [==============================] - 0s 7ms/step - loss: 22.1041 - mae: 22.1041 - mse: 550.4937 - val_loss: 23.3941 - val_mae: 23.3941 - val_mse: 614.1653\n",
            "Epoch 56/300\n",
            "10/10 [==============================] - 0s 7ms/step - loss: 21.9872 - mae: 21.9872 - mse: 544.8700 - val_loss: 23.2695 - val_mae: 23.2695 - val_mse: 607.8152\n",
            "Epoch 57/300\n",
            "10/10 [==============================] - 0s 4ms/step - loss: 21.8700 - mae: 21.8700 - mse: 539.2983 - val_loss: 23.1445 - val_mae: 23.1445 - val_mse: 601.4819\n",
            "Epoch 58/300\n",
            "10/10 [==============================] - 0s 4ms/step - loss: 21.7512 - mae: 21.7512 - mse: 533.5355 - val_loss: 23.0209 - val_mae: 23.0209 - val_mse: 595.2509\n",
            "Epoch 59/300\n",
            "10/10 [==============================] - 0s 4ms/step - loss: 21.6346 - mae: 21.6346 - mse: 528.0596 - val_loss: 22.8962 - val_mae: 22.8962 - val_mse: 588.9970\n",
            "Epoch 60/300\n",
            "10/10 [==============================] - 0s 4ms/step - loss: 21.5173 - mae: 21.5173 - mse: 522.5466 - val_loss: 22.7714 - val_mae: 22.7714 - val_mse: 582.7695\n",
            "Epoch 61/300\n",
            "10/10 [==============================] - 0s 4ms/step - loss: 21.3996 - mae: 21.3996 - mse: 516.9954 - val_loss: 22.6468 - val_mae: 22.6468 - val_mse: 576.5876\n",
            "Epoch 62/300\n",
            "10/10 [==============================] - 0s 3ms/step - loss: 21.2822 - mae: 21.2822 - mse: 511.5434 - val_loss: 22.5221 - val_mae: 22.5221 - val_mse: 570.4322\n",
            "Epoch 63/300\n",
            "10/10 [==============================] - 0s 4ms/step - loss: 21.1641 - mae: 21.1641 - mse: 506.0577 - val_loss: 22.3979 - val_mae: 22.3979 - val_mse: 564.3373\n",
            "Epoch 64/300\n",
            "10/10 [==============================] - 0s 4ms/step - loss: 21.0471 - mae: 21.0471 - mse: 500.6730 - val_loss: 22.2733 - val_mae: 22.2733 - val_mse: 558.2579\n",
            "Epoch 65/300\n",
            "10/10 [==============================] - 0s 5ms/step - loss: 20.9294 - mae: 20.9294 - mse: 495.2605 - val_loss: 22.1490 - val_mae: 22.1490 - val_mse: 552.2234\n",
            "Epoch 66/300\n",
            "10/10 [==============================] - 0s 4ms/step - loss: 20.8120 - mae: 20.8120 - mse: 489.8992 - val_loss: 22.0246 - val_mae: 22.0246 - val_mse: 546.2169\n",
            "Epoch 67/300\n",
            "10/10 [==============================] - 0s 4ms/step - loss: 20.6947 - mae: 20.6947 - mse: 484.5635 - val_loss: 21.9000 - val_mae: 21.9000 - val_mse: 540.2359\n",
            "Epoch 68/300\n",
            "10/10 [==============================] - 0s 4ms/step - loss: 20.5772 - mae: 20.5772 - mse: 479.2787 - val_loss: 21.7754 - val_mae: 21.7754 - val_mse: 534.2857\n",
            "Epoch 69/300\n",
            "10/10 [==============================] - 0s 4ms/step - loss: 20.4591 - mae: 20.4591 - mse: 473.9528 - val_loss: 21.6513 - val_mae: 21.6513 - val_mse: 528.3963\n",
            "Epoch 70/300\n",
            "10/10 [==============================] - 0s 4ms/step - loss: 20.3418 - mae: 20.3418 - mse: 468.7159 - val_loss: 21.5268 - val_mae: 21.5268 - val_mse: 522.5172\n",
            "Epoch 71/300\n",
            "10/10 [==============================] - 0s 4ms/step - loss: 20.2241 - mae: 20.2241 - mse: 463.4864 - val_loss: 21.4024 - val_mae: 21.4024 - val_mse: 516.6767\n",
            "Epoch 72/300\n",
            "10/10 [==============================] - 0s 5ms/step - loss: 20.1072 - mae: 20.1072 - mse: 458.3765 - val_loss: 21.2773 - val_mae: 21.2773 - val_mse: 510.8416\n",
            "Epoch 73/300\n",
            "10/10 [==============================] - 0s 4ms/step - loss: 19.9889 - mae: 19.9889 - mse: 453.1375 - val_loss: 21.1530 - val_mae: 21.1530 - val_mse: 505.0712\n",
            "Epoch 74/300\n",
            "10/10 [==============================] - 0s 4ms/step - loss: 19.8712 - mae: 19.8712 - mse: 448.0267 - val_loss: 21.0287 - val_mae: 21.0287 - val_mse: 499.3391\n",
            "Epoch 75/300\n",
            "10/10 [==============================] - 0s 5ms/step - loss: 19.7547 - mae: 19.7547 - mse: 443.0034 - val_loss: 20.9034 - val_mae: 20.9034 - val_mse: 493.5916\n",
            "Epoch 76/300\n",
            "10/10 [==============================] - 0s 4ms/step - loss: 19.6359 - mae: 19.6359 - mse: 437.8248 - val_loss: 20.7795 - val_mae: 20.7795 - val_mse: 487.9406\n",
            "Epoch 77/300\n",
            "10/10 [==============================] - 0s 4ms/step - loss: 19.5187 - mae: 19.5187 - mse: 432.8185 - val_loss: 20.6552 - val_mae: 20.6552 - val_mse: 482.3055\n",
            "Epoch 78/300\n",
            "10/10 [==============================] - 0s 4ms/step - loss: 19.4015 - mae: 19.4015 - mse: 427.8399 - val_loss: 20.5304 - val_mae: 20.5304 - val_mse: 476.6843\n",
            "Epoch 79/300\n",
            "10/10 [==============================] - 0s 4ms/step - loss: 19.2834 - mae: 19.2834 - mse: 422.7868 - val_loss: 20.4064 - val_mae: 20.4064 - val_mse: 471.1260\n",
            "Epoch 80/300\n",
            "10/10 [==============================] - 0s 4ms/step - loss: 19.1664 - mae: 19.1664 - mse: 417.8882 - val_loss: 20.2815 - val_mae: 20.2815 - val_mse: 465.5663\n",
            "Epoch 81/300\n",
            "10/10 [==============================] - 0s 4ms/step - loss: 19.0490 - mae: 19.0490 - mse: 413.0081 - val_loss: 20.1565 - val_mae: 20.1565 - val_mse: 460.0352\n",
            "Epoch 82/300\n",
            "10/10 [==============================] - 0s 4ms/step - loss: 18.9312 - mae: 18.9312 - mse: 408.1290 - val_loss: 20.0319 - val_mae: 20.0319 - val_mse: 454.5512\n",
            "Epoch 83/300\n",
            "10/10 [==============================] - 0s 4ms/step - loss: 18.8132 - mae: 18.8132 - mse: 403.1954 - val_loss: 19.9077 - val_mae: 19.9077 - val_mse: 449.1198\n",
            "Epoch 84/300\n",
            "10/10 [==============================] - 0s 4ms/step - loss: 18.6962 - mae: 18.6962 - mse: 398.4322 - val_loss: 19.7828 - val_mae: 19.7828 - val_mse: 443.6951\n",
            "Epoch 85/300\n",
            "10/10 [==============================] - 0s 4ms/step - loss: 18.5785 - mae: 18.5785 - mse: 393.6287 - val_loss: 19.6583 - val_mae: 19.6583 - val_mse: 438.3147\n",
            "Epoch 86/300\n",
            "10/10 [==============================] - 0s 4ms/step - loss: 18.4604 - mae: 18.4604 - mse: 388.7953 - val_loss: 19.5342 - val_mae: 19.5342 - val_mse: 432.9909\n",
            "Epoch 87/300\n",
            "10/10 [==============================] - 0s 4ms/step - loss: 18.3433 - mae: 18.3433 - mse: 384.1189 - val_loss: 19.4096 - val_mae: 19.4096 - val_mse: 427.6764\n",
            "Epoch 88/300\n",
            "10/10 [==============================] - 0s 4ms/step - loss: 18.2257 - mae: 18.2257 - mse: 379.3753 - val_loss: 19.2852 - val_mae: 19.2852 - val_mse: 422.4012\n",
            "Epoch 89/300\n",
            "10/10 [==============================] - 0s 5ms/step - loss: 18.1081 - mae: 18.1081 - mse: 374.6882 - val_loss: 19.1609 - val_mae: 19.1609 - val_mse: 417.1669\n",
            "Epoch 90/300\n",
            "10/10 [==============================] - 0s 5ms/step - loss: 17.9909 - mae: 17.9909 - mse: 370.0886 - val_loss: 19.0361 - val_mae: 19.0361 - val_mse: 411.9467\n",
            "Epoch 91/300\n",
            "10/10 [==============================] - 0s 4ms/step - loss: 17.8734 - mae: 17.8734 - mse: 365.4699 - val_loss: 18.9114 - val_mae: 18.9114 - val_mse: 406.7602\n",
            "Epoch 92/300\n",
            "10/10 [==============================] - 0s 4ms/step - loss: 17.7562 - mae: 17.7562 - mse: 360.9297 - val_loss: 18.7863 - val_mae: 18.7863 - val_mse: 401.5911\n",
            "Epoch 93/300\n",
            "10/10 [==============================] - 0s 4ms/step - loss: 17.6383 - mae: 17.6383 - mse: 356.3253 - val_loss: 18.6617 - val_mae: 18.6617 - val_mse: 396.4750\n",
            "Epoch 94/300\n",
            "10/10 [==============================] - 0s 4ms/step - loss: 17.5200 - mae: 17.5200 - mse: 351.7469 - val_loss: 18.5378 - val_mae: 18.5378 - val_mse: 391.4259\n",
            "Epoch 95/300\n",
            "10/10 [==============================] - 0s 4ms/step - loss: 17.4031 - mae: 17.4031 - mse: 347.2688 - val_loss: 18.4133 - val_mae: 18.4133 - val_mse: 386.3797\n",
            "Epoch 96/300\n",
            "10/10 [==============================] - 0s 5ms/step - loss: 17.2853 - mae: 17.2853 - mse: 342.7654 - val_loss: 18.2888 - val_mae: 18.2888 - val_mse: 381.3727\n",
            "Epoch 97/300\n",
            "10/10 [==============================] - 0s 4ms/step - loss: 17.1687 - mae: 17.1687 - mse: 338.4094 - val_loss: 18.1635 - val_mae: 18.1635 - val_mse: 376.3618\n",
            "Epoch 98/300\n",
            "10/10 [==============================] - 0s 4ms/step - loss: 17.0501 - mae: 17.0501 - mse: 333.9575 - val_loss: 18.0393 - val_mae: 18.0393 - val_mse: 371.4324\n",
            "Epoch 99/300\n",
            "10/10 [==============================] - 0s 3ms/step - loss: 16.9329 - mae: 16.9329 - mse: 329.5706 - val_loss: 17.9149 - val_mae: 17.9149 - val_mse: 366.5240\n",
            "Epoch 100/300\n",
            "10/10 [==============================] - 0s 6ms/step - loss: 16.8152 - mae: 16.8152 - mse: 325.2093 - val_loss: 17.7906 - val_mae: 17.7906 - val_mse: 361.6560\n",
            "Epoch 101/300\n",
            "10/10 [==============================] - 0s 4ms/step - loss: 16.6972 - mae: 16.6972 - mse: 320.8277 - val_loss: 17.6667 - val_mae: 17.6667 - val_mse: 356.8380\n",
            "Epoch 102/300\n",
            "10/10 [==============================] - 0s 5ms/step - loss: 16.5808 - mae: 16.5808 - mse: 316.6519 - val_loss: 17.5416 - val_mae: 17.5416 - val_mse: 352.0040\n",
            "Epoch 103/300\n",
            "10/10 [==============================] - 0s 4ms/step - loss: 16.4633 - mae: 16.4633 - mse: 312.3823 - val_loss: 17.4166 - val_mae: 17.4166 - val_mse: 347.2079\n",
            "Epoch 104/300\n",
            "10/10 [==============================] - 0s 4ms/step - loss: 16.3451 - mae: 16.3451 - mse: 308.1149 - val_loss: 17.2923 - val_mae: 17.2923 - val_mse: 342.4726\n",
            "Epoch 105/300\n",
            "10/10 [==============================] - 0s 5ms/step - loss: 16.2272 - mae: 16.2272 - mse: 303.8674 - val_loss: 17.1684 - val_mae: 17.1684 - val_mse: 337.7824\n",
            "Epoch 106/300\n",
            "10/10 [==============================] - 0s 5ms/step - loss: 16.1103 - mae: 16.1103 - mse: 299.7438 - val_loss: 17.0438 - val_mae: 17.0438 - val_mse: 333.1024\n",
            "Epoch 107/300\n",
            "10/10 [==============================] - 0s 5ms/step - loss: 15.9929 - mae: 15.9929 - mse: 295.6122 - val_loss: 16.9190 - val_mae: 16.9190 - val_mse: 328.4467\n",
            "Epoch 108/300\n",
            "10/10 [==============================] - 0s 4ms/step - loss: 15.8752 - mae: 15.8752 - mse: 291.4940 - val_loss: 16.7944 - val_mae: 16.7944 - val_mse: 323.8336\n",
            "Epoch 109/300\n",
            "10/10 [==============================] - 0s 4ms/step - loss: 15.7579 - mae: 15.7579 - mse: 287.4353 - val_loss: 16.6696 - val_mae: 16.6696 - val_mse: 319.2469\n",
            "Epoch 110/300\n",
            "10/10 [==============================] - 0s 4ms/step - loss: 15.6396 - mae: 15.6396 - mse: 283.3089 - val_loss: 16.5455 - val_mae: 16.5455 - val_mse: 314.7198\n",
            "Epoch 111/300\n",
            "10/10 [==============================] - 0s 4ms/step - loss: 15.5217 - mae: 15.5217 - mse: 279.2482 - val_loss: 16.4218 - val_mae: 16.4218 - val_mse: 310.2382\n",
            "Epoch 112/300\n",
            "10/10 [==============================] - 0s 4ms/step - loss: 15.4055 - mae: 15.4055 - mse: 275.3538 - val_loss: 16.2967 - val_mae: 16.2967 - val_mse: 305.7397\n",
            "Epoch 113/300\n",
            "10/10 [==============================] - 0s 5ms/step - loss: 15.2877 - mae: 15.2877 - mse: 271.3796 - val_loss: 16.1719 - val_mae: 16.1719 - val_mse: 301.2834\n",
            "Epoch 114/300\n",
            "10/10 [==============================] - 0s 4ms/step - loss: 15.1704 - mae: 15.1704 - mse: 267.4787 - val_loss: 16.0469 - val_mae: 16.0469 - val_mse: 296.8555\n",
            "Epoch 115/300\n",
            "10/10 [==============================] - 0s 5ms/step - loss: 15.0521 - mae: 15.0521 - mse: 263.4917 - val_loss: 15.9227 - val_mae: 15.9227 - val_mse: 292.4898\n",
            "Epoch 116/300\n",
            "10/10 [==============================] - 0s 4ms/step - loss: 14.9354 - mae: 14.9354 - mse: 259.7048 - val_loss: 15.7976 - val_mae: 15.7976 - val_mse: 288.1258\n",
            "Epoch 117/300\n",
            "10/10 [==============================] - 0s 4ms/step - loss: 14.8162 - mae: 14.8162 - mse: 255.7456 - val_loss: 15.6742 - val_mae: 15.6742 - val_mse: 283.8547\n",
            "Epoch 118/300\n",
            "10/10 [==============================] - 0s 5ms/step - loss: 14.7003 - mae: 14.7003 - mse: 252.0319 - val_loss: 15.5490 - val_mae: 15.5490 - val_mse: 279.5528\n",
            "Epoch 119/300\n",
            "10/10 [==============================] - 0s 5ms/step - loss: 14.5817 - mae: 14.5817 - mse: 248.1389 - val_loss: 15.4249 - val_mae: 15.4249 - val_mse: 275.3235\n",
            "Epoch 120/300\n",
            "10/10 [==============================] - 0s 5ms/step - loss: 14.4644 - mae: 14.4644 - mse: 244.4058 - val_loss: 15.3004 - val_mae: 15.3004 - val_mse: 271.1157\n",
            "Epoch 121/300\n",
            "10/10 [==============================] - 0s 5ms/step - loss: 14.3470 - mae: 14.3470 - mse: 240.7016 - val_loss: 15.1757 - val_mae: 15.1757 - val_mse: 266.9322\n",
            "Epoch 122/300\n",
            "10/10 [==============================] - 0s 5ms/step - loss: 14.2294 - mae: 14.2294 - mse: 237.0172 - val_loss: 15.0511 - val_mae: 15.0511 - val_mse: 262.7841\n",
            "Epoch 123/300\n",
            "10/10 [==============================] - 0s 4ms/step - loss: 14.1118 - mae: 14.1118 - mse: 233.3365 - val_loss: 14.9265 - val_mae: 14.9265 - val_mse: 258.6710\n",
            "Epoch 124/300\n",
            "10/10 [==============================] - 0s 5ms/step - loss: 13.9940 - mae: 13.9940 - mse: 229.7000 - val_loss: 14.8019 - val_mae: 14.8019 - val_mse: 254.5929\n",
            "Epoch 125/300\n",
            "10/10 [==============================] - 0s 4ms/step - loss: 13.8767 - mae: 13.8767 - mse: 226.0937 - val_loss: 14.6772 - val_mae: 14.6772 - val_mse: 250.5423\n",
            "Epoch 126/300\n",
            "10/10 [==============================] - 0s 5ms/step - loss: 13.7588 - mae: 13.7588 - mse: 222.4895 - val_loss: 14.5529 - val_mae: 14.5529 - val_mse: 246.5372\n",
            "Epoch 127/300\n",
            "10/10 [==============================] - 0s 4ms/step - loss: 13.6417 - mae: 13.6417 - mse: 218.9823 - val_loss: 14.4279 - val_mae: 14.4279 - val_mse: 242.5459\n",
            "Epoch 128/300\n",
            "10/10 [==============================] - 0s 4ms/step - loss: 13.5233 - mae: 13.5233 - mse: 215.4115 - val_loss: 14.3038 - val_mae: 14.3038 - val_mse: 238.6161\n",
            "Epoch 129/300\n",
            "10/10 [==============================] - 0s 5ms/step - loss: 13.4062 - mae: 13.4062 - mse: 211.9402 - val_loss: 14.1793 - val_mae: 14.1793 - val_mse: 234.7069\n",
            "Epoch 130/300\n",
            "10/10 [==============================] - 0s 5ms/step - loss: 13.2889 - mae: 13.2889 - mse: 208.4992 - val_loss: 14.0547 - val_mae: 14.0547 - val_mse: 230.8268\n",
            "Epoch 131/300\n",
            "10/10 [==============================] - 0s 4ms/step - loss: 13.1722 - mae: 13.1722 - mse: 205.1468 - val_loss: 13.9293 - val_mae: 13.9293 - val_mse: 226.9549\n",
            "Epoch 132/300\n",
            "10/10 [==============================] - 0s 5ms/step - loss: 13.0532 - mae: 13.0532 - mse: 201.6476 - val_loss: 13.8054 - val_mae: 13.8054 - val_mse: 223.1651\n",
            "Epoch 133/300\n",
            "10/10 [==============================] - 0s 4ms/step - loss: 12.9356 - mae: 12.9356 - mse: 198.2642 - val_loss: 13.6816 - val_mae: 13.6816 - val_mse: 219.4089\n",
            "Epoch 134/300\n",
            "10/10 [==============================] - 0s 4ms/step - loss: 12.8185 - mae: 12.8185 - mse: 194.9357 - val_loss: 13.5573 - val_mae: 13.5573 - val_mse: 215.6714\n",
            "Epoch 135/300\n",
            "10/10 [==============================] - 0s 4ms/step - loss: 12.7011 - mae: 12.7011 - mse: 191.6382 - val_loss: 13.4327 - val_mae: 13.4327 - val_mse: 211.9585\n",
            "Epoch 136/300\n",
            "10/10 [==============================] - 0s 4ms/step - loss: 12.5842 - mae: 12.5842 - mse: 188.3710 - val_loss: 13.3077 - val_mae: 13.3077 - val_mse: 208.2661\n",
            "Epoch 137/300\n",
            "10/10 [==============================] - 0s 4ms/step - loss: 12.4666 - mae: 12.4666 - mse: 185.1456 - val_loss: 13.1833 - val_mae: 13.1833 - val_mse: 204.6276\n",
            "Epoch 138/300\n",
            "10/10 [==============================] - 0s 5ms/step - loss: 12.3498 - mae: 12.3498 - mse: 181.9194 - val_loss: 13.0590 - val_mae: 13.0590 - val_mse: 201.0222\n",
            "Epoch 139/300\n",
            "10/10 [==============================] - 0s 4ms/step - loss: 12.2327 - mae: 12.2327 - mse: 178.7337 - val_loss: 12.9348 - val_mae: 12.9348 - val_mse: 197.4542\n",
            "Epoch 140/300\n",
            "10/10 [==============================] - 0s 4ms/step - loss: 12.1156 - mae: 12.1156 - mse: 175.5607 - val_loss: 12.8108 - val_mae: 12.8108 - val_mse: 193.9260\n",
            "Epoch 141/300\n",
            "10/10 [==============================] - 0s 5ms/step - loss: 11.9986 - mae: 11.9986 - mse: 172.4339 - val_loss: 12.6868 - val_mae: 12.6868 - val_mse: 190.4308\n",
            "Epoch 142/300\n",
            "10/10 [==============================] - 0s 5ms/step - loss: 11.8825 - mae: 11.8825 - mse: 169.3800 - val_loss: 12.5623 - val_mae: 12.5623 - val_mse: 186.9541\n",
            "Epoch 143/300\n",
            "10/10 [==============================] - 0s 4ms/step - loss: 11.7661 - mae: 11.7661 - mse: 166.2657 - val_loss: 12.4387 - val_mae: 12.4387 - val_mse: 183.5343\n",
            "Epoch 144/300\n",
            "10/10 [==============================] - 0s 4ms/step - loss: 11.6512 - mae: 11.6512 - mse: 163.3028 - val_loss: 12.3146 - val_mae: 12.3146 - val_mse: 180.1348\n",
            "Epoch 145/300\n",
            "10/10 [==============================] - 0s 4ms/step - loss: 11.5350 - mae: 11.5350 - mse: 160.3041 - val_loss: 12.1912 - val_mae: 12.1912 - val_mse: 176.7862\n",
            "Epoch 146/300\n",
            "10/10 [==============================] - 0s 5ms/step - loss: 11.4204 - mae: 11.4204 - mse: 157.3002 - val_loss: 12.0710 - val_mae: 12.0710 - val_mse: 173.5132\n",
            "Epoch 147/300\n",
            "10/10 [==============================] - 0s 4ms/step - loss: 11.3102 - mae: 11.3102 - mse: 154.4089 - val_loss: 11.9525 - val_mae: 11.9525 - val_mse: 170.3145\n",
            "Epoch 148/300\n",
            "10/10 [==============================] - 0s 4ms/step - loss: 11.2021 - mae: 11.2021 - mse: 151.6435 - val_loss: 11.8332 - val_mae: 11.8332 - val_mse: 167.1269\n",
            "Epoch 149/300\n",
            "10/10 [==============================] - 0s 4ms/step - loss: 11.0942 - mae: 11.0942 - mse: 148.8412 - val_loss: 11.7214 - val_mae: 11.7214 - val_mse: 164.0028\n",
            "Epoch 150/300\n",
            "10/10 [==============================] - 0s 6ms/step - loss: 10.9889 - mae: 10.9889 - mse: 146.0787 - val_loss: 11.6143 - val_mae: 11.6143 - val_mse: 160.9973\n",
            "Epoch 151/300\n",
            "10/10 [==============================] - 0s 5ms/step - loss: 10.8872 - mae: 10.8872 - mse: 143.4258 - val_loss: 11.5080 - val_mae: 11.5080 - val_mse: 158.0070\n",
            "Epoch 152/300\n",
            "10/10 [==============================] - 0s 5ms/step - loss: 10.7860 - mae: 10.7860 - mse: 140.8067 - val_loss: 11.4056 - val_mae: 11.4056 - val_mse: 155.0708\n",
            "Epoch 153/300\n",
            "10/10 [==============================] - 0s 5ms/step - loss: 10.6863 - mae: 10.6863 - mse: 138.2413 - val_loss: 11.3027 - val_mae: 11.3027 - val_mse: 152.1522\n",
            "Epoch 154/300\n",
            "10/10 [==============================] - 0s 4ms/step - loss: 10.5875 - mae: 10.5875 - mse: 135.6907 - val_loss: 11.2016 - val_mae: 11.2016 - val_mse: 149.3135\n",
            "Epoch 155/300\n",
            "10/10 [==============================] - 0s 5ms/step - loss: 10.4911 - mae: 10.4911 - mse: 133.1691 - val_loss: 11.1019 - val_mae: 11.1019 - val_mse: 146.5405\n",
            "Epoch 156/300\n",
            "10/10 [==============================] - 0s 4ms/step - loss: 10.3993 - mae: 10.3993 - mse: 130.7499 - val_loss: 11.0035 - val_mae: 11.0035 - val_mse: 143.8312\n",
            "Epoch 157/300\n",
            "10/10 [==============================] - 0s 4ms/step - loss: 10.3085 - mae: 10.3085 - mse: 128.4019 - val_loss: 10.9071 - val_mae: 10.9071 - val_mse: 141.2039\n",
            "Epoch 158/300\n",
            "10/10 [==============================] - 0s 4ms/step - loss: 10.2210 - mae: 10.2210 - mse: 126.0868 - val_loss: 10.8103 - val_mae: 10.8103 - val_mse: 138.5876\n",
            "Epoch 159/300\n",
            "10/10 [==============================] - 0s 4ms/step - loss: 10.1312 - mae: 10.1312 - mse: 123.7480 - val_loss: 10.7160 - val_mae: 10.7160 - val_mse: 136.0666\n",
            "Epoch 160/300\n",
            "10/10 [==============================] - 0s 6ms/step - loss: 10.0449 - mae: 10.0449 - mse: 121.5275 - val_loss: 10.6201 - val_mae: 10.6201 - val_mse: 133.5273\n",
            "Epoch 161/300\n",
            "10/10 [==============================] - 0s 4ms/step - loss: 9.9576 - mae: 9.9576 - mse: 119.3055 - val_loss: 10.5236 - val_mae: 10.5236 - val_mse: 130.9971\n",
            "Epoch 162/300\n",
            "10/10 [==============================] - 0s 5ms/step - loss: 9.8686 - mae: 9.8686 - mse: 117.0710 - val_loss: 10.4283 - val_mae: 10.4283 - val_mse: 128.5254\n",
            "Epoch 163/300\n",
            "10/10 [==============================] - 0s 4ms/step - loss: 9.7828 - mae: 9.7828 - mse: 114.8988 - val_loss: 10.3306 - val_mae: 10.3306 - val_mse: 126.0143\n",
            "Epoch 164/300\n",
            "10/10 [==============================] - 0s 5ms/step - loss: 9.6939 - mae: 9.6939 - mse: 112.6874 - val_loss: 10.2337 - val_mae: 10.2337 - val_mse: 123.5522\n",
            "Epoch 165/300\n",
            "10/10 [==============================] - 0s 4ms/step - loss: 9.6042 - mae: 9.6042 - mse: 110.4715 - val_loss: 10.1383 - val_mae: 10.1383 - val_mse: 121.1538\n",
            "Epoch 166/300\n",
            "10/10 [==============================] - 0s 4ms/step - loss: 9.5180 - mae: 9.5180 - mse: 108.3976 - val_loss: 10.0406 - val_mae: 10.0406 - val_mse: 118.7208\n",
            "Epoch 167/300\n",
            "10/10 [==============================] - 0s 4ms/step - loss: 9.4283 - mae: 9.4283 - mse: 106.2339 - val_loss: 9.9441 - val_mae: 9.9441 - val_mse: 116.3456\n",
            "Epoch 168/300\n",
            "10/10 [==============================] - 0s 5ms/step - loss: 9.3399 - mae: 9.3399 - mse: 104.1536 - val_loss: 9.8475 - val_mae: 9.8475 - val_mse: 113.9917\n",
            "Epoch 169/300\n",
            "10/10 [==============================] - 0s 4ms/step - loss: 9.2519 - mae: 9.2519 - mse: 102.0943 - val_loss: 9.7500 - val_mae: 9.7500 - val_mse: 111.6441\n",
            "Epoch 170/300\n",
            "10/10 [==============================] - 0s 4ms/step - loss: 9.1617 - mae: 9.1617 - mse: 99.9924 - val_loss: 9.6541 - val_mae: 9.6541 - val_mse: 109.3586\n",
            "Epoch 171/300\n",
            "10/10 [==============================] - 0s 4ms/step - loss: 9.0758 - mae: 9.0758 - mse: 98.0036 - val_loss: 9.5549 - val_mae: 9.5549 - val_mse: 107.0226\n",
            "Epoch 172/300\n",
            "10/10 [==============================] - 0s 4ms/step - loss: 8.9848 - mae: 8.9848 - mse: 95.9506 - val_loss: 9.4582 - val_mae: 9.4582 - val_mse: 104.7714\n",
            "Epoch 173/300\n",
            "10/10 [==============================] - 0s 5ms/step - loss: 8.8957 - mae: 8.8957 - mse: 93.9639 - val_loss: 9.3616 - val_mae: 9.3616 - val_mse: 102.5479\n",
            "Epoch 174/300\n",
            "10/10 [==============================] - 0s 4ms/step - loss: 8.8073 - mae: 8.8073 - mse: 91.9899 - val_loss: 9.2640 - val_mae: 9.2640 - val_mse: 100.3280\n",
            "Epoch 175/300\n",
            "10/10 [==============================] - 0s 3ms/step - loss: 8.7183 - mae: 8.7183 - mse: 90.0490 - val_loss: 9.1660 - val_mae: 9.1660 - val_mse: 98.1236\n",
            "Epoch 176/300\n",
            "10/10 [==============================] - 0s 4ms/step - loss: 8.6281 - mae: 8.6281 - mse: 88.0762 - val_loss: 9.0687 - val_mae: 9.0687 - val_mse: 95.9623\n",
            "Epoch 177/300\n",
            "10/10 [==============================] - 0s 4ms/step - loss: 8.5395 - mae: 8.5395 - mse: 86.1698 - val_loss: 8.9703 - val_mae: 8.9703 - val_mse: 93.8032\n",
            "Epoch 178/300\n",
            "10/10 [==============================] - 0s 4ms/step - loss: 8.4500 - mae: 8.4500 - mse: 84.2887 - val_loss: 8.8716 - val_mae: 8.8716 - val_mse: 91.6647\n",
            "Epoch 179/300\n",
            "10/10 [==============================] - 0s 4ms/step - loss: 8.3589 - mae: 8.3589 - mse: 82.3906 - val_loss: 8.7747 - val_mae: 8.7747 - val_mse: 89.5888\n",
            "Epoch 180/300\n",
            "10/10 [==============================] - 0s 5ms/step - loss: 8.2699 - mae: 8.2699 - mse: 80.5710 - val_loss: 8.6765 - val_mae: 8.6765 - val_mse: 87.5152\n",
            "Epoch 181/300\n",
            "10/10 [==============================] - 0s 4ms/step - loss: 8.1824 - mae: 8.1824 - mse: 78.7538 - val_loss: 8.5758 - val_mae: 8.5758 - val_mse: 85.4134\n",
            "Epoch 182/300\n",
            "10/10 [==============================] - 0s 4ms/step - loss: 8.0890 - mae: 8.0890 - mse: 76.8951 - val_loss: 8.4789 - val_mae: 8.4789 - val_mse: 83.4175\n",
            "Epoch 183/300\n",
            "10/10 [==============================] - 0s 5ms/step - loss: 8.0002 - mae: 8.0002 - mse: 75.1367 - val_loss: 8.3805 - val_mae: 8.3805 - val_mse: 81.4189\n",
            "Epoch 184/300\n",
            "10/10 [==============================] - 0s 4ms/step - loss: 7.9088 - mae: 7.9088 - mse: 73.3678 - val_loss: 8.2832 - val_mae: 8.2832 - val_mse: 79.4672\n",
            "Epoch 185/300\n",
            "10/10 [==============================] - 0s 4ms/step - loss: 7.8195 - mae: 7.8195 - mse: 71.6443 - val_loss: 8.1844 - val_mae: 8.1844 - val_mse: 77.5124\n",
            "Epoch 186/300\n",
            "10/10 [==============================] - 0s 4ms/step - loss: 7.7296 - mae: 7.7296 - mse: 69.9283 - val_loss: 8.0847 - val_mae: 8.0847 - val_mse: 75.5678\n",
            "Epoch 187/300\n",
            "10/10 [==============================] - 0s 4ms/step - loss: 7.6401 - mae: 7.6401 - mse: 68.2667 - val_loss: 7.9839 - val_mae: 7.9839 - val_mse: 73.6285\n",
            "Epoch 188/300\n",
            "10/10 [==============================] - 0s 4ms/step - loss: 7.5480 - mae: 7.5480 - mse: 66.5311 - val_loss: 7.8845 - val_mae: 7.8845 - val_mse: 71.7446\n",
            "Epoch 189/300\n",
            "10/10 [==============================] - 0s 4ms/step - loss: 7.4570 - mae: 7.4570 - mse: 64.8972 - val_loss: 7.7853 - val_mae: 7.7853 - val_mse: 69.8915\n",
            "Epoch 190/300\n",
            "10/10 [==============================] - 0s 5ms/step - loss: 7.3649 - mae: 7.3649 - mse: 63.2466 - val_loss: 7.6874 - val_mae: 7.6874 - val_mse: 68.0878\n",
            "Epoch 191/300\n",
            "10/10 [==============================] - 0s 4ms/step - loss: 7.2769 - mae: 7.2769 - mse: 61.6728 - val_loss: 7.5864 - val_mae: 7.5864 - val_mse: 66.2549\n",
            "Epoch 192/300\n",
            "10/10 [==============================] - 0s 4ms/step - loss: 7.1852 - mae: 7.1852 - mse: 60.0905 - val_loss: 7.4860 - val_mae: 7.4860 - val_mse: 64.4625\n",
            "Epoch 193/300\n",
            "10/10 [==============================] - 0s 4ms/step - loss: 7.0922 - mae: 7.0922 - mse: 58.4974 - val_loss: 7.3876 - val_mae: 7.3876 - val_mse: 62.7305\n",
            "Epoch 194/300\n",
            "10/10 [==============================] - 0s 4ms/step - loss: 7.0013 - mae: 7.0013 - mse: 56.9586 - val_loss: 7.2888 - val_mae: 7.2888 - val_mse: 61.0200\n",
            "Epoch 195/300\n",
            "10/10 [==============================] - 0s 4ms/step - loss: 6.9128 - mae: 6.9128 - mse: 55.5002 - val_loss: 7.1870 - val_mae: 7.1870 - val_mse: 59.2850\n",
            "Epoch 196/300\n",
            "10/10 [==============================] - 0s 5ms/step - loss: 6.8188 - mae: 6.8188 - mse: 53.9727 - val_loss: 7.0881 - val_mae: 7.0881 - val_mse: 57.6274\n",
            "Epoch 197/300\n",
            "10/10 [==============================] - 0s 5ms/step - loss: 6.7273 - mae: 6.7273 - mse: 52.4939 - val_loss: 6.9890 - val_mae: 6.9890 - val_mse: 55.9917\n",
            "Epoch 198/300\n",
            "10/10 [==============================] - 0s 4ms/step - loss: 6.6375 - mae: 6.6375 - mse: 51.0561 - val_loss: 6.8876 - val_mae: 6.8876 - val_mse: 54.3480\n",
            "Epoch 199/300\n",
            "10/10 [==============================] - 0s 4ms/step - loss: 6.5444 - mae: 6.5444 - mse: 49.6225 - val_loss: 6.7876 - val_mae: 6.7876 - val_mse: 52.7537\n",
            "Epoch 200/300\n",
            "10/10 [==============================] - 0s 4ms/step - loss: 6.4547 - mae: 6.4547 - mse: 48.2362 - val_loss: 6.6854 - val_mae: 6.6854 - val_mse: 51.1527\n",
            "Epoch 201/300\n",
            "10/10 [==============================] - 0s 5ms/step - loss: 6.3603 - mae: 6.3603 - mse: 46.8389 - val_loss: 6.5861 - val_mae: 6.5861 - val_mse: 49.6247\n",
            "Epoch 202/300\n",
            "10/10 [==============================] - 0s 7ms/step - loss: 6.2696 - mae: 6.2696 - mse: 45.4981 - val_loss: 6.4855 - val_mae: 6.4855 - val_mse: 48.1040\n",
            "Epoch 203/300\n",
            "10/10 [==============================] - 0s 6ms/step - loss: 6.1772 - mae: 6.1772 - mse: 44.1651 - val_loss: 6.3852 - val_mae: 6.3852 - val_mse: 46.6155\n",
            "Epoch 204/300\n",
            "10/10 [==============================] - 0s 5ms/step - loss: 6.0851 - mae: 6.0851 - mse: 42.8540 - val_loss: 6.2849 - val_mae: 6.2849 - val_mse: 45.1559\n",
            "Epoch 205/300\n",
            "10/10 [==============================] - 0s 4ms/step - loss: 5.9926 - mae: 5.9926 - mse: 41.5709 - val_loss: 6.1848 - val_mae: 6.1848 - val_mse: 43.7261\n",
            "Epoch 206/300\n",
            "10/10 [==============================] - 0s 5ms/step - loss: 5.9024 - mae: 5.9024 - mse: 40.3408 - val_loss: 6.0826 - val_mae: 6.0826 - val_mse: 42.2945\n",
            "Epoch 207/300\n",
            "10/10 [==============================] - 0s 4ms/step - loss: 5.8077 - mae: 5.8077 - mse: 39.0737 - val_loss: 5.9827 - val_mae: 5.9827 - val_mse: 40.9228\n",
            "Epoch 208/300\n",
            "10/10 [==============================] - 0s 5ms/step - loss: 5.7165 - mae: 5.7165 - mse: 37.8682 - val_loss: 5.8812 - val_mae: 5.8812 - val_mse: 39.5569\n",
            "Epoch 209/300\n",
            "10/10 [==============================] - 0s 4ms/step - loss: 5.6238 - mae: 5.6238 - mse: 36.6858 - val_loss: 5.7799 - val_mae: 5.7799 - val_mse: 38.2225\n",
            "Epoch 210/300\n",
            "10/10 [==============================] - 0s 5ms/step - loss: 5.5322 - mae: 5.5322 - mse: 35.5372 - val_loss: 5.6780 - val_mae: 5.6780 - val_mse: 36.9099\n",
            "Epoch 211/300\n",
            "10/10 [==============================] - 0s 6ms/step - loss: 5.4407 - mae: 5.4407 - mse: 34.4195 - val_loss: 5.5758 - val_mae: 5.5758 - val_mse: 35.6209\n",
            "Epoch 212/300\n",
            "10/10 [==============================] - 0s 4ms/step - loss: 5.3472 - mae: 5.3472 - mse: 33.2868 - val_loss: 5.4757 - val_mae: 5.4757 - val_mse: 34.3857\n",
            "Epoch 213/300\n",
            "10/10 [==============================] - 0s 4ms/step - loss: 5.2564 - mae: 5.2564 - mse: 32.2145 - val_loss: 5.3749 - val_mae: 5.3749 - val_mse: 33.1629\n",
            "Epoch 214/300\n",
            "10/10 [==============================] - 0s 4ms/step - loss: 5.1622 - mae: 5.1622 - mse: 31.1270 - val_loss: 5.2778 - val_mae: 5.2778 - val_mse: 31.9953\n",
            "Epoch 215/300\n",
            "10/10 [==============================] - 0s 4ms/step - loss: 5.0736 - mae: 5.0736 - mse: 30.1196 - val_loss: 5.1769 - val_mae: 5.1769 - val_mse: 30.8097\n",
            "Epoch 216/300\n",
            "10/10 [==============================] - 0s 5ms/step - loss: 4.9793 - mae: 4.9793 - mse: 29.0816 - val_loss: 5.0782 - val_mae: 5.0782 - val_mse: 29.6786\n",
            "Epoch 217/300\n",
            "10/10 [==============================] - 0s 4ms/step - loss: 4.8883 - mae: 4.8883 - mse: 28.1284 - val_loss: 4.9780 - val_mae: 4.9780 - val_mse: 28.5597\n",
            "Epoch 218/300\n",
            "10/10 [==============================] - 0s 5ms/step - loss: 4.7940 - mae: 4.7940 - mse: 27.1306 - val_loss: 4.8799 - val_mae: 4.8799 - val_mse: 27.4912\n",
            "Epoch 219/300\n",
            "10/10 [==============================] - 0s 4ms/step - loss: 4.7023 - mae: 4.7023 - mse: 26.1930 - val_loss: 4.7814 - val_mae: 4.7814 - val_mse: 26.4458\n",
            "Epoch 220/300\n",
            "10/10 [==============================] - 0s 4ms/step - loss: 4.6121 - mae: 4.6121 - mse: 25.3010 - val_loss: 4.6812 - val_mae: 4.6812 - val_mse: 25.4119\n",
            "Epoch 221/300\n",
            "10/10 [==============================] - 0s 5ms/step - loss: 4.5202 - mae: 4.5202 - mse: 24.4150 - val_loss: 4.5822 - val_mae: 4.5822 - val_mse: 24.4182\n",
            "Epoch 222/300\n",
            "10/10 [==============================] - 0s 5ms/step - loss: 4.4284 - mae: 4.4284 - mse: 23.5415 - val_loss: 4.4844 - val_mae: 4.4844 - val_mse: 23.4643\n",
            "Epoch 223/300\n",
            "10/10 [==============================] - 0s 5ms/step - loss: 4.3394 - mae: 4.3394 - mse: 22.7212 - val_loss: 4.3845 - val_mae: 4.3845 - val_mse: 22.5181\n",
            "Epoch 224/300\n",
            "10/10 [==============================] - 0s 4ms/step - loss: 4.2471 - mae: 4.2471 - mse: 21.9075 - val_loss: 4.2862 - val_mae: 4.2862 - val_mse: 21.6145\n",
            "Epoch 225/300\n",
            "10/10 [==============================] - 0s 5ms/step - loss: 4.1576 - mae: 4.1576 - mse: 21.1470 - val_loss: 4.1874 - val_mae: 4.1874 - val_mse: 20.7346\n",
            "Epoch 226/300\n",
            "10/10 [==============================] - 0s 5ms/step - loss: 4.0692 - mae: 4.0692 - mse: 20.3801 - val_loss: 4.0904 - val_mae: 4.0904 - val_mse: 19.8979\n",
            "Epoch 227/300\n",
            "10/10 [==============================] - 0s 4ms/step - loss: 3.9847 - mae: 3.9847 - mse: 19.6725 - val_loss: 3.9935 - val_mae: 3.9935 - val_mse: 19.0894\n",
            "Epoch 228/300\n",
            "10/10 [==============================] - 0s 5ms/step - loss: 3.8972 - mae: 3.8972 - mse: 18.9437 - val_loss: 3.9000 - val_mae: 3.9000 - val_mse: 18.3345\n",
            "Epoch 229/300\n",
            "10/10 [==============================] - 0s 5ms/step - loss: 3.8149 - mae: 3.8149 - mse: 18.3189 - val_loss: 3.8037 - val_mae: 3.8037 - val_mse: 17.5835\n",
            "Epoch 230/300\n",
            "10/10 [==============================] - 0s 4ms/step - loss: 3.7313 - mae: 3.7313 - mse: 17.6972 - val_loss: 3.7063 - val_mae: 3.7063 - val_mse: 16.8504\n",
            "Epoch 231/300\n",
            "10/10 [==============================] - 0s 5ms/step - loss: 3.6471 - mae: 3.6471 - mse: 17.0738 - val_loss: 3.6090 - val_mae: 3.6090 - val_mse: 16.1457\n",
            "Epoch 232/300\n",
            "10/10 [==============================] - 0s 5ms/step - loss: 3.5638 - mae: 3.5638 - mse: 16.4814 - val_loss: 3.5145 - val_mae: 3.5145 - val_mse: 15.4773\n",
            "Epoch 233/300\n",
            "10/10 [==============================] - 0s 5ms/step - loss: 3.4794 - mae: 3.4794 - mse: 15.8880 - val_loss: 3.4267 - val_mae: 3.4267 - val_mse: 14.8665\n",
            "Epoch 234/300\n",
            "10/10 [==============================] - 0s 5ms/step - loss: 3.4007 - mae: 3.4007 - mse: 15.3781 - val_loss: 3.3376 - val_mae: 3.3376 - val_mse: 14.2702\n",
            "Epoch 235/300\n",
            "10/10 [==============================] - 0s 5ms/step - loss: 3.3220 - mae: 3.3220 - mse: 14.8700 - val_loss: 3.2476 - val_mae: 3.2476 - val_mse: 13.6935\n",
            "Epoch 236/300\n",
            "10/10 [==============================] - 0s 5ms/step - loss: 3.2420 - mae: 3.2420 - mse: 14.3828 - val_loss: 3.1585 - val_mae: 3.1585 - val_mse: 13.1472\n",
            "Epoch 237/300\n",
            "10/10 [==============================] - 0s 4ms/step - loss: 3.1642 - mae: 3.1642 - mse: 13.9059 - val_loss: 3.0697 - val_mae: 3.0697 - val_mse: 12.6270\n",
            "Epoch 238/300\n",
            "10/10 [==============================] - 0s 5ms/step - loss: 3.0868 - mae: 3.0868 - mse: 13.4714 - val_loss: 2.9816 - val_mae: 2.9816 - val_mse: 12.1314\n",
            "Epoch 239/300\n",
            "10/10 [==============================] - 0s 6ms/step - loss: 3.0096 - mae: 3.0096 - mse: 13.0499 - val_loss: 2.8964 - val_mae: 2.8964 - val_mse: 11.6633\n",
            "Epoch 240/300\n",
            "10/10 [==============================] - 0s 5ms/step - loss: 2.9348 - mae: 2.9348 - mse: 12.6818 - val_loss: 2.8104 - val_mae: 2.8104 - val_mse: 11.2105\n",
            "Epoch 241/300\n",
            "10/10 [==============================] - 0s 5ms/step - loss: 2.8573 - mae: 2.8573 - mse: 12.2944 - val_loss: 2.7284 - val_mae: 2.7284 - val_mse: 10.7919\n",
            "Epoch 242/300\n",
            "10/10 [==============================] - 0s 5ms/step - loss: 2.7828 - mae: 2.7828 - mse: 11.9445 - val_loss: 2.6497 - val_mae: 2.6497 - val_mse: 10.4074\n",
            "Epoch 243/300\n",
            "10/10 [==============================] - 0s 6ms/step - loss: 2.7122 - mae: 2.7122 - mse: 11.6221 - val_loss: 2.5725 - val_mae: 2.5725 - val_mse: 10.0467\n",
            "Epoch 244/300\n",
            "10/10 [==============================] - 0s 5ms/step - loss: 2.6441 - mae: 2.6441 - mse: 11.3211 - val_loss: 2.4976 - val_mae: 2.4976 - val_mse: 9.7153\n",
            "Epoch 245/300\n",
            "10/10 [==============================] - 0s 5ms/step - loss: 2.5800 - mae: 2.5800 - mse: 11.0748 - val_loss: 2.4227 - val_mae: 2.4227 - val_mse: 9.4054\n",
            "Epoch 246/300\n",
            "10/10 [==============================] - 0s 5ms/step - loss: 2.5136 - mae: 2.5136 - mse: 10.7963 - val_loss: 2.3510 - val_mae: 2.3510 - val_mse: 9.1289\n",
            "Epoch 247/300\n",
            "10/10 [==============================] - 0s 5ms/step - loss: 2.4522 - mae: 2.4522 - mse: 10.5812 - val_loss: 2.2807 - val_mae: 2.2807 - val_mse: 8.8714\n",
            "Epoch 248/300\n",
            "10/10 [==============================] - 0s 4ms/step - loss: 2.4018 - mae: 2.4018 - mse: 10.3868 - val_loss: 2.2208 - val_mae: 2.2208 - val_mse: 8.6619\n",
            "Epoch 249/300\n",
            "10/10 [==============================] - 0s 4ms/step - loss: 2.3584 - mae: 2.3584 - mse: 10.2170 - val_loss: 2.1652 - val_mae: 2.1652 - val_mse: 8.4813\n",
            "Epoch 250/300\n",
            "10/10 [==============================] - 0s 5ms/step - loss: 2.3178 - mae: 2.3178 - mse: 10.0710 - val_loss: 2.1102 - val_mae: 2.1102 - val_mse: 8.3153\n",
            "Epoch 251/300\n",
            "10/10 [==============================] - 0s 5ms/step - loss: 2.2809 - mae: 2.2809 - mse: 9.9497 - val_loss: 2.0558 - val_mae: 2.0558 - val_mse: 8.1615\n",
            "Epoch 252/300\n",
            "10/10 [==============================] - 0s 5ms/step - loss: 2.2461 - mae: 2.2461 - mse: 9.8298 - val_loss: 2.0106 - val_mae: 2.0106 - val_mse: 8.0374\n",
            "Epoch 253/300\n",
            "10/10 [==============================] - 0s 4ms/step - loss: 2.2173 - mae: 2.2173 - mse: 9.7238 - val_loss: 1.9696 - val_mae: 1.9696 - val_mse: 7.9313\n",
            "Epoch 254/300\n",
            "10/10 [==============================] - 0s 5ms/step - loss: 2.1935 - mae: 2.1935 - mse: 9.6567 - val_loss: 1.9323 - val_mae: 1.9323 - val_mse: 7.8357\n",
            "Epoch 255/300\n",
            "10/10 [==============================] - 0s 4ms/step - loss: 2.1709 - mae: 2.1709 - mse: 9.5872 - val_loss: 1.8963 - val_mae: 1.8963 - val_mse: 7.7502\n",
            "Epoch 256/300\n",
            "10/10 [==============================] - 0s 4ms/step - loss: 2.1478 - mae: 2.1478 - mse: 9.5199 - val_loss: 1.8695 - val_mae: 1.8695 - val_mse: 7.6791\n",
            "Epoch 257/300\n",
            "10/10 [==============================] - 0s 4ms/step - loss: 2.1284 - mae: 2.1284 - mse: 9.4621 - val_loss: 1.8458 - val_mae: 1.8458 - val_mse: 7.6153\n",
            "Epoch 258/300\n",
            "10/10 [==============================] - 0s 5ms/step - loss: 2.1096 - mae: 2.1096 - mse: 9.4169 - val_loss: 1.8218 - val_mae: 1.8218 - val_mse: 7.5577\n",
            "Epoch 259/300\n",
            "10/10 [==============================] - 0s 4ms/step - loss: 2.0897 - mae: 2.0897 - mse: 9.3756 - val_loss: 1.7994 - val_mae: 1.7994 - val_mse: 7.5095\n",
            "Epoch 260/300\n",
            "10/10 [==============================] - 0s 5ms/step - loss: 2.0730 - mae: 2.0730 - mse: 9.3457 - val_loss: 1.7771 - val_mae: 1.7771 - val_mse: 7.4646\n",
            "Epoch 261/300\n",
            "10/10 [==============================] - 0s 8ms/step - loss: 2.0579 - mae: 2.0579 - mse: 9.3210 - val_loss: 1.7605 - val_mae: 1.7605 - val_mse: 7.4289\n",
            "Epoch 262/300\n",
            "10/10 [==============================] - 0s 4ms/step - loss: 2.0442 - mae: 2.0442 - mse: 9.2926 - val_loss: 1.7461 - val_mae: 1.7461 - val_mse: 7.4024\n",
            "Epoch 263/300\n",
            "10/10 [==============================] - 0s 6ms/step - loss: 2.0329 - mae: 2.0329 - mse: 9.2788 - val_loss: 1.7312 - val_mae: 1.7312 - val_mse: 7.3794\n",
            "Epoch 264/300\n",
            "10/10 [==============================] - 0s 4ms/step - loss: 2.0208 - mae: 2.0208 - mse: 9.2716 - val_loss: 1.7167 - val_mae: 1.7167 - val_mse: 7.3614\n",
            "Epoch 265/300\n",
            "10/10 [==============================] - 0s 4ms/step - loss: 2.0084 - mae: 2.0084 - mse: 9.2579 - val_loss: 1.7056 - val_mae: 1.7056 - val_mse: 7.3481\n",
            "Epoch 266/300\n",
            "10/10 [==============================] - 0s 4ms/step - loss: 1.9993 - mae: 1.9993 - mse: 9.2578 - val_loss: 1.6979 - val_mae: 1.6979 - val_mse: 7.3390\n",
            "Epoch 267/300\n",
            "10/10 [==============================] - 0s 5ms/step - loss: 1.9932 - mae: 1.9932 - mse: 9.2566 - val_loss: 1.6926 - val_mae: 1.6926 - val_mse: 7.3337\n",
            "Epoch 268/300\n",
            "10/10 [==============================] - 0s 6ms/step - loss: 1.9877 - mae: 1.9877 - mse: 9.2545 - val_loss: 1.6882 - val_mae: 1.6882 - val_mse: 7.3310\n",
            "Epoch 269/300\n",
            "10/10 [==============================] - 0s 5ms/step - loss: 1.9831 - mae: 1.9831 - mse: 9.2559 - val_loss: 1.6837 - val_mae: 1.6837 - val_mse: 7.3299\n",
            "Epoch 270/300\n",
            "10/10 [==============================] - 0s 4ms/step - loss: 1.9792 - mae: 1.9792 - mse: 9.2651 - val_loss: 1.6786 - val_mae: 1.6786 - val_mse: 7.3307\n",
            "Epoch 271/300\n",
            "10/10 [==============================] - 0s 4ms/step - loss: 1.9734 - mae: 1.9734 - mse: 9.2639 - val_loss: 1.6754 - val_mae: 1.6754 - val_mse: 7.3325\n",
            "Epoch 272/300\n",
            "10/10 [==============================] - 0s 4ms/step - loss: 1.9706 - mae: 1.9706 - mse: 9.2735 - val_loss: 1.6730 - val_mae: 1.6730 - val_mse: 7.3359\n",
            "Epoch 273/300\n",
            "10/10 [==============================] - 0s 4ms/step - loss: 1.9673 - mae: 1.9673 - mse: 9.2828 - val_loss: 1.6708 - val_mae: 1.6708 - val_mse: 7.3399\n",
            "Epoch 274/300\n",
            "10/10 [==============================] - 0s 6ms/step - loss: 1.9652 - mae: 1.9652 - mse: 9.2927 - val_loss: 1.6684 - val_mae: 1.6684 - val_mse: 7.3458\n",
            "Epoch 275/300\n",
            "10/10 [==============================] - 0s 4ms/step - loss: 1.9614 - mae: 1.9614 - mse: 9.2937 - val_loss: 1.6668 - val_mae: 1.6668 - val_mse: 7.3503\n",
            "Epoch 276/300\n",
            "10/10 [==============================] - 0s 5ms/step - loss: 1.9598 - mae: 1.9598 - mse: 9.3014 - val_loss: 1.6663 - val_mae: 1.6663 - val_mse: 7.3559\n",
            "Epoch 277/300\n",
            "10/10 [==============================] - 0s 6ms/step - loss: 1.9586 - mae: 1.9586 - mse: 9.3102 - val_loss: 1.6659 - val_mae: 1.6659 - val_mse: 7.3609\n",
            "Epoch 278/300\n",
            "10/10 [==============================] - 0s 5ms/step - loss: 1.9577 - mae: 1.9577 - mse: 9.3158 - val_loss: 1.6655 - val_mae: 1.6655 - val_mse: 7.3663\n",
            "Epoch 279/300\n",
            "10/10 [==============================] - 0s 5ms/step - loss: 1.9565 - mae: 1.9565 - mse: 9.3218 - val_loss: 1.6652 - val_mae: 1.6652 - val_mse: 7.3701\n",
            "Epoch 280/300\n",
            "10/10 [==============================] - 0s 6ms/step - loss: 1.9561 - mae: 1.9561 - mse: 9.3294 - val_loss: 1.6658 - val_mae: 1.6658 - val_mse: 7.3760\n",
            "Epoch 281/300\n",
            "10/10 [==============================] - 0s 4ms/step - loss: 1.9553 - mae: 1.9553 - mse: 9.3329 - val_loss: 1.6665 - val_mae: 1.6665 - val_mse: 7.3784\n",
            "Epoch 282/300\n",
            "10/10 [==============================] - 0s 5ms/step - loss: 1.9550 - mae: 1.9550 - mse: 9.3353 - val_loss: 1.6669 - val_mae: 1.6669 - val_mse: 7.3797\n",
            "Epoch 283/300\n",
            "10/10 [==============================] - 0s 4ms/step - loss: 1.9548 - mae: 1.9548 - mse: 9.3372 - val_loss: 1.6674 - val_mae: 1.6674 - val_mse: 7.3816\n",
            "Epoch 284/300\n",
            "10/10 [==============================] - 0s 6ms/step - loss: 1.9549 - mae: 1.9549 - mse: 9.3418 - val_loss: 1.6682 - val_mae: 1.6682 - val_mse: 7.3850\n",
            "Epoch 285/300\n",
            "10/10 [==============================] - 0s 5ms/step - loss: 1.9544 - mae: 1.9544 - mse: 9.3435 - val_loss: 1.6687 - val_mae: 1.6687 - val_mse: 7.3866\n",
            "Epoch 286/300\n",
            "10/10 [==============================] - 0s 4ms/step - loss: 1.9542 - mae: 1.9542 - mse: 9.3457 - val_loss: 1.6692 - val_mae: 1.6692 - val_mse: 7.3885\n",
            "Epoch 287/300\n",
            "10/10 [==============================] - 0s 5ms/step - loss: 1.9541 - mae: 1.9541 - mse: 9.3471 - val_loss: 1.6693 - val_mae: 1.6693 - val_mse: 7.3886\n",
            "Epoch 288/300\n",
            "10/10 [==============================] - 0s 5ms/step - loss: 1.9539 - mae: 1.9539 - mse: 9.3491 - val_loss: 1.6699 - val_mae: 1.6699 - val_mse: 7.3912\n",
            "Epoch 289/300\n",
            "10/10 [==============================] - 0s 5ms/step - loss: 1.9542 - mae: 1.9542 - mse: 9.3564 - val_loss: 1.6713 - val_mae: 1.6713 - val_mse: 7.3977\n",
            "Epoch 290/300\n",
            "10/10 [==============================] - 0s 4ms/step - loss: 1.9534 - mae: 1.9534 - mse: 9.3595 - val_loss: 1.6717 - val_mae: 1.6717 - val_mse: 7.3992\n",
            "Epoch 291/300\n",
            "10/10 [==============================] - 0s 5ms/step - loss: 1.9533 - mae: 1.9533 - mse: 9.3608 - val_loss: 1.6721 - val_mae: 1.6721 - val_mse: 7.4010\n",
            "Epoch 292/300\n",
            "10/10 [==============================] - 0s 4ms/step - loss: 1.9531 - mae: 1.9531 - mse: 9.3645 - val_loss: 1.6727 - val_mae: 1.6727 - val_mse: 7.4037\n",
            "Epoch 293/300\n",
            "10/10 [==============================] - 0s 6ms/step - loss: 1.9529 - mae: 1.9529 - mse: 9.3667 - val_loss: 1.6731 - val_mae: 1.6731 - val_mse: 7.4058\n",
            "Epoch 294/300\n",
            "10/10 [==============================] - 0s 4ms/step - loss: 1.9530 - mae: 1.9530 - mse: 9.3728 - val_loss: 1.6740 - val_mae: 1.6740 - val_mse: 7.4102\n",
            "Epoch 295/300\n",
            "10/10 [==============================] - 0s 4ms/step - loss: 1.9524 - mae: 1.9524 - mse: 9.3734 - val_loss: 1.6743 - val_mae: 1.6743 - val_mse: 7.4115\n",
            "Epoch 296/300\n",
            "10/10 [==============================] - 0s 4ms/step - loss: 1.9523 - mae: 1.9523 - mse: 9.3759 - val_loss: 1.6749 - val_mae: 1.6749 - val_mse: 7.4147\n",
            "Epoch 297/300\n",
            "10/10 [==============================] - 0s 5ms/step - loss: 1.9521 - mae: 1.9521 - mse: 9.3792 - val_loss: 1.6755 - val_mae: 1.6755 - val_mse: 7.4176\n",
            "Epoch 298/300\n",
            "10/10 [==============================] - 0s 6ms/step - loss: 1.9519 - mae: 1.9519 - mse: 9.3832 - val_loss: 1.6761 - val_mae: 1.6761 - val_mse: 7.4207\n",
            "Epoch 299/300\n",
            "10/10 [==============================] - 0s 5ms/step - loss: 1.9517 - mae: 1.9517 - mse: 9.3861 - val_loss: 1.6766 - val_mae: 1.6766 - val_mse: 7.4235\n",
            "Epoch 300/300\n",
            "10/10 [==============================] - 0s 5ms/step - loss: 1.9515 - mae: 1.9515 - mse: 9.3893 - val_loss: 1.6772 - val_mae: 1.6772 - val_mse: 7.4265\n"
          ],
          "name": "stdout"
        }
      ]
    },
    {
      "cell_type": "code",
      "metadata": {
        "colab": {
          "base_uri": "https://localhost:8080/"
        },
        "id": "IYAF6kwVm2ry",
        "outputId": "c31d7421-5ee2-4515-cfb8-3f96ba716461"
      },
      "source": [
        "print(history)"
      ],
      "execution_count": null,
      "outputs": [
        {
          "output_type": "stream",
          "text": [
            "<tensorflow.python.keras.callbacks.History object at 0x7f1148bd3510>\n"
          ],
          "name": "stdout"
        }
      ]
    },
    {
      "cell_type": "code",
      "metadata": {
        "colab": {
          "base_uri": "https://localhost:8080/"
        },
        "id": "JA9e9hxxm5yZ",
        "outputId": "ecba6526-438f-4737-8ea1-251b676b7cca"
      },
      "source": [
        "model.summary()"
      ],
      "execution_count": null,
      "outputs": [
        {
          "output_type": "stream",
          "text": [
            "Model: \"sequential_1\"\n",
            "_________________________________________________________________\n",
            "Layer (type)                 Output Shape              Param #   \n",
            "=================================================================\n",
            "dense_1 (Dense)              (None, 1)                 2         \n",
            "=================================================================\n",
            "Total params: 2\n",
            "Trainable params: 2\n",
            "Non-trainable params: 0\n",
            "_________________________________________________________________\n"
          ],
          "name": "stdout"
        }
      ]
    },
    {
      "cell_type": "code",
      "metadata": {
        "colab": {
          "base_uri": "https://localhost:8080/",
          "height": 1000
        },
        "id": "oc9fpnCNm87i",
        "outputId": "a397bcd3-017c-4128-f6c6-d668b5cb9859"
      },
      "source": [
        "# tempString = 'mse'\n",
        "def curvePlots(tempString):\n",
        "  plt.plot(history.history[tempString])\n",
        "  plt.plot(history.history[f'val_{tempString}'])\n",
        "  plt.xlabel('NumEpochs')\n",
        "  plt.ylabel(tempString)\n",
        "  plt.legend([tempString, f'val_{tempString}'])\n",
        "  plt.show()\n",
        "\n",
        "\n",
        "curvePlots('mse')\n",
        "curvePlots('mae')\n",
        "curvePlots('loss')"
      ],
      "execution_count": null,
      "outputs": [
        {
          "output_type": "display_data",
          "data": {
            "image/png": "[encoded data removed]",
            "text/plain": [
              "<Figure size 576x396 with 1 Axes>"
            ]
          },
          "metadata": {
            "tags": []
          }
        },
        {
          "output_type": "display_data",
          "data": {
            "image/png": "[encoded data removed]",
            "text/plain": [
              "<Figure size 576x396 with 1 Axes>"
            ]
          },
          "metadata": {
            "tags": []
          }
        },
        {
          "output_type": "display_data",
          "data": {
            "image/png": "[encoded data removed]",
            "text/plain": [
              "<Figure size 576x396 with 1 Axes>"
            ]
          },
          "metadata": {
            "tags": []
          }
        }
      ]
    },
    {
      "cell_type": "code",
      "metadata": {
        "colab": {
          "base_uri": "https://localhost:8080/"
        },
        "id": "n57Et2M2nA75",
        "outputId": "48e70036-fc8c-4d8c-8cc0-315a383ea87a"
      },
      "source": [
        "model.predict([1])"
      ],
      "execution_count": null,
      "outputs": [
        {
          "output_type": "execute_result",
          "data": {
            "text/plain": [
              "array([[3.192122]], dtype=float32)"
            ]
          },
          "metadata": {
            "tags": []
          },
          "execution_count": 27
        }
      ]
    },
    {
      "cell_type": "code",
      "metadata": {
        "colab": {
          "base_uri": "https://localhost:8080/"
        },
        "id": "r32GwUGrnEMJ",
        "outputId": "1ed82d35-5259-4288-e5ae-7f8d3eb81d9f"
      },
      "source": [
        "# testPreds = model.predict(testFeatures).flatten() #array of all prediction values\n",
        "\n",
        "#for single values\n",
        "\n",
        "print(f'Prediction for input value 1: {model.predict([1])}')\n",
        "\n",
        "\n",
        "# for a list of values\n",
        "tempListforPreds = [1,2,3,4,5]\n",
        "print(f'''\n",
        "\n",
        "input List = {tempListforPreds}\n",
        "\n",
        "\n",
        "List of Predictions:\n",
        "{model.predict(tempListforPreds)}\n",
        "\n",
        "List of Predictions (flattened out):\n",
        "{model.predict(tempListforPreds).flatten()}\n",
        "''')"
      ],
      "execution_count": null,
      "outputs": [
        {
          "output_type": "stream",
          "text": [
            "Prediction for input value 1: [[3.192122]]\n",
            "\n",
            "\n",
            "input List = [1, 2, 3, 4, 5]\n",
            "\n",
            "\n",
            "List of Predictions:\n",
            "[[3.192122 ]\n",
            " [3.9898515]\n",
            " [4.7875805]\n",
            " [5.58531  ]\n",
            " [6.3830395]]\n",
            "\n",
            "List of Predictions (flattened out):\n",
            "[3.192122  3.9898515 4.7875805 5.58531   6.3830395]\n",
            "\n"
          ],
          "name": "stdout"
        }
      ]
    },
    {
      "cell_type": "code",
      "metadata": {
        "colab": {
          "base_uri": "https://localhost:8080/"
        },
        "id": "HG4NQ31XnLaV",
        "outputId": "5c7be07a-8dd4-477d-c150-4625b09ceeb3"
      },
      "source": [
        "print(testFeatures)"
      ],
      "execution_count": null,
      "outputs": [
        {
          "output_type": "stream",
          "text": [
            "     G1\n",
            "9    14\n",
            "25    6\n",
            "28   11\n",
            "31   17\n",
            "32   17\n",
            "..   ..\n",
            "365  10\n",
            "367   7\n",
            "379  10\n",
            "381   7\n",
            "393  11\n",
            "\n",
            "[79 rows x 1 columns]\n"
          ],
          "name": "stdout"
        }
      ]
    },
    {
      "cell_type": "code",
      "metadata": {
        "id": "LAF5jcyWnOLF"
      },
      "source": [
        "testPreds = model.predict(testFeatures).flatten() #array of all prediction values"
      ],
      "execution_count": null,
      "outputs": []
    },
    {
      "cell_type": "code",
      "metadata": {
        "colab": {
          "base_uri": "https://localhost:8080/"
        },
        "id": "rDS8kTLFnRVu",
        "outputId": "991b75ef-2ac0-4974-d255-f90111af8690"
      },
      "source": [
        "print(len(testPreds))\n",
        "print(testPreds)"
      ],
      "execution_count": null,
      "outputs": [
        {
          "output_type": "stream",
          "text": [
            "79\n",
            "[13.562605   7.180769  11.169416  15.955793  15.955793  11.967146\n",
            " 13.562605  17.551252  17.551252   8.776228  13.562605  12.764875\n",
            "  8.776228   7.9784985  9.573957  12.764875  11.169416  15.158064\n",
            "  7.9784985 10.371687  14.360334  12.764875  13.562605  15.158064\n",
            "  7.9784985  7.9784985  8.776228  10.371687  11.967146  10.371687\n",
            " 11.967146  12.764875  10.371687   7.180769   9.573957  11.967146\n",
            "  7.9784985  8.776228  13.562605   9.573957   9.573957   7.9784985\n",
            " 11.967146   7.180769  12.764875   7.9784985  7.9784985 11.169416\n",
            " 12.764875  15.955793  11.967146  14.360334   9.573957  11.967146\n",
            " 14.360334  11.967146  14.360334  11.967146  14.360334  11.169416\n",
            " 11.967146   8.776228  15.158064   7.9784985 15.158064  11.169416\n",
            " 15.158064  12.764875   8.776228   8.776228  11.967146  16.753523\n",
            " 12.764875  15.158064  10.371687   7.9784985 10.371687   7.9784985\n",
            " 11.169416 ]\n"
          ],
          "name": "stdout"
        }
      ]
    },
    {
      "cell_type": "code",
      "metadata": {
        "colab": {
          "base_uri": "https://localhost:8080/",
          "height": 361
        },
        "id": "uD0T484rnVI5",
        "outputId": "b629f587-aca3-43ed-838a-35914e874445"
      },
      "source": [
        "# prediciton plot --> how well is your model predicting across the actual labels\n",
        "\n",
        "def predPlot(labels, predictions):\n",
        "  plt.scatter(labels, predictions)\n",
        "  plt.ylabel('Predictions')\n",
        "  plt.xlabel('True Value or Labels')\n",
        "  plt.axis('equal')\n",
        "  plt.axis('square')\n",
        "  plt.xlim([0, plt.xlim()[1]])\n",
        "  plt.ylim([0, plt.ylim()[1]])\n",
        "  plt.show()\n",
        "\n",
        "predPlot(testLabels, testPreds)"
      ],
      "execution_count": null,
      "outputs": [
        {
          "output_type": "display_data",
          "data": {
            "image/png": "[encoded data removed]",
            "text/plain": [
              "<Figure size 576x396 with 1 Axes>"
            ]
          },
          "metadata": {
            "tags": []
          }
        }
      ]
    },
    {
      "cell_type": "code",
      "metadata": {
        "colab": {
          "base_uri": "https://localhost:8080/",
          "height": 361
        },
        "id": "kztw6s3NnZTW",
        "outputId": "bd170be9-490a-43f4-eb9f-a100c2780990"
      },
      "source": [
        "#error plot --> gaussian distribution \n",
        "\n",
        "def errorPlot(preds, labels, counts):\n",
        "  errors = preds - labels\n",
        "  plt.hist(errors, counts)\n",
        "  plt.xlabel('Error')\n",
        "  plt.ylabel('Counts')\n",
        "  plt.show()\n",
        "\n",
        "errorPlot(testPreds, testLabels, numEpochs)"
      ],
      "execution_count": null,
      "outputs": [
        {
          "output_type": "display_data",
          "data": {
            "image/png": "[encoded data removed]",
            "text/plain": [
              "<Figure size 576x396 with 1 Axes>"
            ]
          },
          "metadata": {
            "tags": []
          }
        }
      ]
    }
  ]
}
